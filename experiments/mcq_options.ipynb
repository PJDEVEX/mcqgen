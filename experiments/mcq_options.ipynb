{
 "cells": [
  {
   "cell_type": "code",
   "execution_count": 1,
   "metadata": {},
   "outputs": [],
   "source": [
    "import os\n",
    "import json\n",
    "import pandas as pd\n",
    "import traceback\n",
    "\n",
    "# https://python.langchain.com/docs/integrations/chat/openai\n",
    "from langchain_anthropic import ChatAnthropic"
   ]
  },
  {
   "cell_type": "code",
   "execution_count": 2,
   "metadata": {},
   "outputs": [
    {
     "name": "stderr",
     "output_type": "stream",
     "text": [
      "Python-dotenv could not parse statement starting at line 1\n"
     ]
    },
    {
     "data": {
      "text/plain": [
       "True"
      ]
     },
     "execution_count": 2,
     "metadata": {},
     "output_type": "execute_result"
    }
   ],
   "source": [
    "from dotenv import load_dotenv\n",
    "\n",
    "load_dotenv()"
   ]
  },
  {
   "cell_type": "code",
   "execution_count": 3,
   "metadata": {},
   "outputs": [],
   "source": [
    "ANTHROPIC_APIKEY = os.getenv(\"ANTHROPIC_APIKEY\")"
   ]
  },
  {
   "cell_type": "code",
   "execution_count": 4,
   "metadata": {},
   "outputs": [],
   "source": [
    "# Initialize ChatopenAI\n",
    "llm_anth = ChatAnthropic(anthropic_api_key=ANTHROPIC_APIKEY, model_name=\"claude-3-sonnet-20240229\",temperature=0.5)"
   ]
  },
  {
   "cell_type": "code",
   "execution_count": 5,
   "metadata": {},
   "outputs": [],
   "source": [
    "from langchain_anthropic import ChatAnthropic\n",
    "from langchain.prompts import PromptTemplate\n",
    "from langchain.chains import LLMChain\n",
    "from langchain.chains import  SequentialChain\n",
    "from langchain_community.callbacks import get_openai_callback"
   ]
  },
  {
   "cell_type": "code",
   "execution_count": 6,
   "metadata": {},
   "outputs": [],
   "source": [
    "# JSON response for the chatbot\n",
    "RESPONSE_JSON_ANTH = {\n",
    "    \"1\": {\n",
    "        \"mcq\":\"multiple choice question\",\n",
    "        \"options\":{\"a\":\"choice here\",\n",
    "                   \"b\":\"choice here\",\n",
    "                   \"c\":\"choice here\",\n",
    "                   \"d\":\"choice here\"\n",
    "                   },\n",
    "        \"correct\":\"correct_answer\",\n",
    "    },\n",
    "    \"2\": {\n",
    "        \"mcq\":\"multiple choice question\",\n",
    "        \"options\":{\"a\":\"choice here\",\n",
    "                   \"b\":\"choice here\",\n",
    "                   \"c\":\"choice here\",\n",
    "                   \"d\":\"choice here\"\n",
    "                   },\n",
    "        \"correct\":\"correct_answer\",\n",
    "    },\n",
    "    \"3\": {\n",
    "        \"mcq\":\"multiple choice question\",\n",
    "        \"options\":{\"a\":\"choice here\",\n",
    "                   \"b\":\"choice here\",\n",
    "                   \"c\":\"choice here\",\n",
    "                   \"d\":\"choice here\"\n",
    "                   },\n",
    "        \"correct\":\"correct_answer\",\n",
    "    },\n",
    "    \"4\": {\n",
    "        \"mcq\": \"multiple choice question\",\n",
    "        \"options\": {\n",
    "            \"a\": \"choice here\",\n",
    "            \"b\": \"choice here\",\n",
    "            \"c\": \"choice here\",\n",
    "            \"d\": \"choice here\"\n",
    "        },\n",
    "        \"correct\": \"correct_answer\"\n",
    "    },\n",
    "    \"5\": {\n",
    "        \"mcq\":\"multiple choice question\",\n",
    "        \"options\":{\"a\":\"choice here\",\n",
    "                   \"b\":\"choice here\",\n",
    "                   \"c\":\"choice here\",\n",
    "                   \"d\":\"choice here\"\n",
    "                   },\n",
    "        \"correct\":\"correct_answer\",\n",
    "    }\n",
    "}"
   ]
  },
  {
   "cell_type": "code",
   "execution_count": 7,
   "metadata": {},
   "outputs": [],
   "source": [
    "# Template 1 for the prompt\n",
    "TEMPLATE_ANTH =\"\"\"\n",
    "text:{text}\n",
    "You are an expert MCQ maker. Give the above text, it is your job to\\\n",
    "create a quize of {number} multiple choice questions for {subject} in a {tone} tone\\\n",
    "Make sure questions are not repeated and check all question to be confirming to the text as well. \\\n",
    "Make sure to format your resepomse like RESPONSE_JSON_ANTH below and use it as a guide.  \\\n",
    "Ensure to make {number} MCQs\n",
    "###RESPONSE_JSON_ANTH\n",
    "{response_json}\n",
    "\"\"\"\n"
   ]
  },
  {
   "cell_type": "code",
   "execution_count": 8,
   "metadata": {},
   "outputs": [],
   "source": [
    "# Quiz generation prompt\n",
    "quiz_generation_prompt_anth = PromptTemplate(\n",
    "    input_variables=[\"text\", \"number\", \"subject\", \"tone\", \"response_json\"],\n",
    "    template=TEMPLATE_ANTH\n",
    ")"
   ]
  },
  {
   "cell_type": "code",
   "execution_count": 9,
   "metadata": {},
   "outputs": [],
   "source": [
    "# Quiz generation chain\n",
    "quize_chain_anth = LLMChain(llm=llm_anth, prompt=quiz_generation_prompt_anth, output_key=\"quiz\", verbose=True)"
   ]
  },
  {
   "cell_type": "code",
   "execution_count": 10,
   "metadata": {},
   "outputs": [],
   "source": [
    "# Template 2 for the prompt\n",
    "TEMPLATE2_ANTH=\"\"\"\n",
    "Your are an expert English grammerian. Give a multiple choice quiz for {subject} students. \\\n",
    "    you need to evaluate the complexity of the question and give a complete analysis of the quiz. \n",
    "    Only use at max 50 words for the complexity analysis. \\\n",
    "    If the questions are not in par with the student's cognitive and analytical abilities of the student, \\\n",
    "    Update the questions which needs to be changed and change the tone such that it perfectly fits the student's cognitive and analytical abilities. \\\n",
    "    Quiz_MCQs: \n",
    "    {quiz}\n",
    "\n",
    "    check from an expert English writer of the above quiz:\n",
    "    \"\"\""
   ]
  },
  {
   "cell_type": "code",
   "execution_count": 11,
   "metadata": {},
   "outputs": [],
   "source": [
    "# Question evaluation prompt\n",
    "quiz_evaluation_prompt_anth = PromptTemplate(\n",
    "    input_variables=[\"subject\", \"quiz\"],\n",
    "    template=TEMPLATE2_ANTH\n",
    ")"
   ]
  },
  {
   "cell_type": "code",
   "execution_count": 12,
   "metadata": {},
   "outputs": [],
   "source": [
    "# Quiz evaluation chain\n",
    "review_chain_anth = LLMChain(llm=llm_anth, prompt=quiz_evaluation_prompt_anth, output_key=\"review\", verbose=True)"
   ]
  },
  {
   "cell_type": "code",
   "execution_count": 13,
   "metadata": {},
   "outputs": [],
   "source": [
    "# Sequential chain for quiz generation and evaluation\n",
    "generate_evaluate_chain_anth = SequentialChain(  \n",
    "    chains=[quize_chain_anth, review_chain_anth],\n",
    "    input_variables=[\"text\", \"number\", \"subject\", \"tone\", \"response_json\"],\n",
    "    output_variables=[\"quiz\", \"review\"],\n",
    "    verbose=True\n",
    ")"
   ]
  },
  {
   "cell_type": "code",
   "execution_count": 14,
   "metadata": {},
   "outputs": [],
   "source": [
    "# File path for the Text data\n",
    "file_path = r\"/home/pjlinux/projects/mcqgen/data_anth.txt\""
   ]
  },
  {
   "cell_type": "code",
   "execution_count": 15,
   "metadata": {},
   "outputs": [],
   "source": [
    "# Read the TEXT data\n",
    "with open(file_path, \"r\") as file:\n",
    "    TEXT_ANTH = file.read()"
   ]
  },
  {
   "cell_type": "code",
   "execution_count": 16,
   "metadata": {},
   "outputs": [
    {
     "data": {
      "text/plain": [
       "'{\"1\": {\"mcq\": \"multiple choice question\", \"options\": {\"a\": \"choice here\", \"b\": \"choice here\", \"c\": \"choice here\", \"d\": \"choice here\"}, \"correct\": \"correct_answer\"}, \"2\": {\"mcq\": \"multiple choice question\", \"options\": {\"a\": \"choice here\", \"b\": \"choice here\", \"c\": \"choice here\", \"d\": \"choice here\"}, \"correct\": \"correct_answer\"}, \"3\": {\"mcq\": \"multiple choice question\", \"options\": {\"a\": \"choice here\", \"b\": \"choice here\", \"c\": \"choice here\", \"d\": \"choice here\"}, \"correct\": \"correct_answer\"}, \"4\": {\"mcq\": \"multiple choice question\", \"options\": {\"a\": \"choice here\", \"b\": \"choice here\", \"c\": \"choice here\", \"d\": \"choice here\"}, \"correct\": \"correct_answer\"}, \"5\": {\"mcq\": \"multiple choice question\", \"options\": {\"a\": \"choice here\", \"b\": \"choice here\", \"c\": \"choice here\", \"d\": \"choice here\"}, \"correct\": \"correct_answer\"}}'"
      ]
     },
     "execution_count": 16,
     "metadata": {},
     "output_type": "execute_result"
    }
   ],
   "source": [
    "# Serialize python dictionary to JSON\n",
    "json.dumps(RESPONSE_JSON_ANTH)"
   ]
  },
  {
   "cell_type": "code",
   "execution_count": 17,
   "metadata": {},
   "outputs": [],
   "source": [
    "NUMBER = 5\n",
    "SUBJECT = \"demand and supply\"\n",
    "TONE = \"simple\""
   ]
  },
  {
   "cell_type": "code",
   "execution_count": 21,
   "metadata": {},
   "outputs": [
    {
     "name": "stderr",
     "output_type": "stream",
     "text": [
      "/home/pjlinux/projects/mcqgen/env/lib/python3.10/site-packages/langchain_core/_api/deprecation.py:117: LangChainDeprecationWarning: The function `__call__` was deprecated in LangChain 0.1.0 and will be removed in 0.2.0. Use invoke instead.\n",
      "  warn_deprecated(\n"
     ]
    },
    {
     "name": "stdout",
     "output_type": "stream",
     "text": [
      "\n",
      "\n",
      "\u001b[1m> Entering new SequentialChain chain...\u001b[0m\n",
      "\n",
      "\n",
      "\u001b[1m> Entering new LLMChain chain...\u001b[0m\n",
      "Prompt after formatting:\n",
      "\u001b[32;1m\u001b[1;3m\n",
      "text:Supply and Demand\n",
      "A glance at how supply and demand work\n",
      "\n",
      "Over 1.8 million professionals use CFI to learn accounting, financial analysis, modeling and more. Start with a free account to explore 20+ always-free courses and hundreds of finance templates and cheat sheets.\n",
      "\n",
      "Start Free\n",
      "Written by Tim Vipond\n",
      "What are the Laws of Supply and Demand?\n",
      "The laws of supply and demand are microeconomic concepts that state that in efficient markets, the quantity supplied of a good and quantity demanded of that good are equal to each other. The price of that good is also determined by the point at which supply and demand are equal to each other. Supply and demand are usually expressed in a line graph format, with Quantity (the independent variable) on the y-axis and Price (the dependent variable) on the x-axis.\n",
      "\n",
      "Understanding Supply\n",
      "Generally speaking, the supply of a good and its price are directly proportional to each other and follow a linear relationship. In other words, as price increases, the supply of that good also increases – as demonstrated by the chart below:\n",
      "\n",
      "Supply and Demand: supply\n",
      "\n",
      "The supply line is seen from a seller’s perspective. The higher the price of a good, the more of that good a seller will want to sell, since doing so will be profitable. Conversely, a low price will not attract many sellers to the market, and the quantity supplied will be lower. Thus, we get a linear relationship.\n",
      "\n",
      "Understanding Demand\n",
      "Demand works in the opposite way that supply does, and is inversely proportional to price. In other words, as price increases, the demand for that good will decrease – as demonstrated by the chart below:\n",
      "\n",
      "Supply and Demand: Demand\n",
      "\n",
      "The demand line is seen from a buyer’s perspective. The higher the price of a good, the lower the number of interested buyers, since buyers want to save as much money as possible. Conversely, a low price will attract many buyers to the market, therefore, the quantity demanded will be higher. Thus, we see an inverse relationship.\n",
      "\n",
      "Supply and Demand Graph\n",
      "Now, let’s combine the above two graphs into one:\n",
      "\n",
      "Supply and Demand Curve\n",
      "\n",
      "By combining the two graphs, we can observe the point of equilibrium, where the supply and demand lines intersect. Tracing lines directly from the equilibrium point to the x- and y-axes will reveal the Price at Equilibrium (Pe) and Quantity at Equilibrium (Qe), respectively.\n",
      "\n",
      "Does the Model Hold True in Real Life?\n",
      "It is important to note that the supply and demand framework does not always happen in real life. It is impossible to calculate Pe and Qe in real life since every individual buyer shows a different willingness to pay for goods, and every seller demonstrates a different willingness to accept prices.\n",
      "\n",
      "Furthermore, there are a host of other real-life factors that interfere with the supply and demand model, such as:\n",
      "\n",
      "Monopolies\n",
      "The supply and demand model assumes perfect competition, which rarely occurs. In some markets, we see a single very powerful producer of goods. Since buyers are unable to find another place to purchase the goods, they are forced to accept whatever price the seller decides to set. This has been the case for goods with inelastic demand (i.e., essential goods) such as oil, medication, or cigarettes.\n",
      "\n",
      "In such a scenario, the increase in price will deter a small number of buyers from participating in the market, but the majority will still purchase the monopolized goods at a higher price. The practice is hugely profitable for the seller and, in most cases, illegal.\n",
      "\n",
      "cash \n",
      "\n",
      "Price Floors\n",
      "Price floors are price minimums put in place by the government to protect vulnerable sellers. For example, the government might put in a place a price floor on farm goods such as potatoes. Thus, farmers will be guaranteed a certain amount of revenue and will be able to afford a living. In such a scenario, the absence of a price floor may see the price of potatoes plummet to a very low equilibrium price and farmers go into bankruptcy.\n",
      "\n",
      "Subsidies\n",
      "Subsidies can be thought of as an alternative to price floors. Thinking back to the potato example, a subsidy will cover a certain portion of production costs for a farmer. Thus, the farmer will have fewer costs to cover and will be able to capture more sales revenue. This will ensure that the farmer can still afford a living even if the equilibrium price of potatoes ends up being very low.\n",
      "\n",
      "Taxes\n",
      "Government-imposed taxes are sometimes put in place to boost government revenue. This may be due to political agendas or a lack of available capital to fund public infrastructure projects. A tax on buyers will mean that buyers will need to purchase a good at a price above the equilibrium. However, the additional profits generated this way will be collected by the government rather than the seller.\n",
      "You are an expert MCQ maker. Give the above text, it is your job tocreate a quize of 5 multiple choice questions for demand and supply in a simple toneMake sure questions are not repeated and check all question to be confirming to the text as well. Make sure to format your resepomse like RESPONSE_JSON_ANTH below and use it as a guide.  Ensure to make 5 MCQs\n",
      "###RESPONSE_JSON_ANTH\n",
      "{\"1\": {\"mcq\": \"multiple choice question\", \"options\": {\"a\": \"choice here\", \"b\": \"choice here\", \"c\": \"choice here\", \"d\": \"choice here\"}, \"correct\": \"correct_answer\"}, \"2\": {\"mcq\": \"multiple choice question\", \"options\": {\"a\": \"choice here\", \"b\": \"choice here\", \"c\": \"choice here\", \"d\": \"choice here\"}, \"correct\": \"correct_answer\"}, \"3\": {\"mcq\": \"multiple choice question\", \"options\": {\"a\": \"choice here\", \"b\": \"choice here\", \"c\": \"choice here\", \"d\": \"choice here\"}, \"correct\": \"correct_answer\"}, \"4\": {\"mcq\": \"multiple choice question\", \"options\": {\"a\": \"choice here\", \"b\": \"choice here\", \"c\": \"choice here\", \"d\": \"choice here\"}, \"correct\": \"correct_answer\"}, \"5\": {\"mcq\": \"multiple choice question\", \"options\": {\"a\": \"choice here\", \"b\": \"choice here\", \"c\": \"choice here\", \"d\": \"choice here\"}, \"correct\": \"correct_answer\"}}\n",
      "\u001b[0m\n",
      "\n",
      "\u001b[1m> Finished chain.\u001b[0m\n",
      "\n",
      "\n",
      "\u001b[1m> Entering new LLMChain chain...\u001b[0m\n",
      "Prompt after formatting:\n",
      "\u001b[32;1m\u001b[1;3m\n",
      "Your are an expert English grammerian. Give a multiple choice quiz for demand and supply students.     you need to evaluate the complexity of the question and give a complete analysis of the quiz. \n",
      "    Only use at max 50 words for the complexity analysis.     If the questions are not in par with the student's cognitive and analytical abilities of the student,     Update the questions which needs to be changed and change the tone such that it perfectly fits the student's cognitive and analytical abilities.     Quiz_MCQs: \n",
      "    {\n",
      "    \"1\": {\n",
      "        \"mcq\": \"What is the relationship between supply and price?\",\n",
      "        \"options\": {\n",
      "            \"a\": \"Supply and price are inversely proportional\",\n",
      "            \"b\": \"Supply and price are directly proportional\",\n",
      "            \"c\": \"There is no relationship between supply and price\",\n",
      "            \"d\": \"The relationship between supply and price is non-linear\"\n",
      "        },\n",
      "        \"correct\": \"b\"\n",
      "    },\n",
      "    \"2\": {\n",
      "        \"mcq\": \"What is the relationship between demand and price?\",\n",
      "        \"options\": {\n",
      "            \"a\": \"Demand and price are directly proportional\",\n",
      "            \"b\": \"Demand and price are inversely proportional\",\n",
      "            \"c\": \"There is no relationship between demand and price\",\n",
      "            \"d\": \"The relationship between demand and price is non-linear\"\n",
      "        },\n",
      "        \"correct\": \"b\"\n",
      "    },\n",
      "    \"3\": {\n",
      "        \"mcq\": \"What is the point of equilibrium in the supply and demand model?\",\n",
      "        \"options\": {\n",
      "            \"a\": \"The point where supply and demand lines intersect\",\n",
      "            \"b\": \"The point where supply and demand lines are parallel\",\n",
      "            \"c\": \"The point where supply and demand lines diverge\",\n",
      "            \"d\": \"The point where supply and demand lines are perpendicular\"\n",
      "        },\n",
      "        \"correct\": \"a\"\n",
      "    },\n",
      "    \"4\": {\n",
      "        \"mcq\": \"Which of the following factors can interfere with the supply and demand model in real life?\",\n",
      "        \"options\": {\n",
      "            \"a\": \"Monopolies\",\n",
      "            \"b\": \"Price floors\",\n",
      "            \"c\": \"Subsidies\",\n",
      "            \"d\": \"All of the above\"\n",
      "        },\n",
      "        \"correct\": \"d\"\n",
      "    },\n",
      "    \"5\": {\n",
      "        \"mcq\": \"What is the purpose of government-imposed taxes in the supply and demand model?\",\n",
      "        \"options\": {\n",
      "            \"a\": \"To boost government revenue\",\n",
      "            \"b\": \"To protect vulnerable sellers\",\n",
      "            \"c\": \"To increase demand for goods\",\n",
      "            \"d\": \"To decrease supply of goods\"\n",
      "        },\n",
      "        \"correct\": \"a\"\n",
      "    }\n",
      "}\n",
      "\n",
      "    check from an expert English writer of the above quiz:\n",
      "    \u001b[0m\n",
      "\n",
      "\u001b[1m> Finished chain.\u001b[0m\n",
      "\n",
      "\u001b[1m> Finished chain.\u001b[0m\n"
     ]
    }
   ],
   "source": [
    "# https://python.langchain.com/docs/modules/model_io/llms/token_usage_tracking\n",
    "\n",
    "# How to use the token usage tracking\n",
    "with get_openai_callback() as cb:\n",
    "    response_anth=generate_evaluate_chain_anth(\n",
    "    {\n",
    "        \"text\": TEXT_ANTH,\n",
    "        \"number\": NUMBER,\n",
    "        \"subject\": SUBJECT,\n",
    "        \"tone\": TONE,\n",
    "        \"response_json\": json.dumps(RESPONSE_JSON_ANTH)\n",
    "    }\n",
    "    )"
   ]
  },
  {
   "cell_type": "code",
   "execution_count": 25,
   "metadata": {},
   "outputs": [
    {
     "name": "stdout",
     "output_type": "stream",
     "text": [
      "Total Tokens: 0\n",
      "Prompt Tokens: 0\n",
      "Completion Tokens: 0\n",
      "Total Cost (USD): $0.0\n"
     ]
    }
   ],
   "source": [
    "# Print token usage\n",
    "print(f\"Total Tokens: {cb.total_tokens}\")\n",
    "print(f\"Prompt Tokens: {cb.prompt_tokens}\")\n",
    "print(f\"Completion Tokens: {cb.completion_tokens}\")\n",
    "print(f\"Total Cost (USD): ${cb.total_cost}\")"
   ]
  },
  {
   "cell_type": "code",
   "execution_count": 26,
   "metadata": {},
   "outputs": [
    {
     "data": {
      "text/plain": [
       "{'text': 'Supply and Demand\\nA glance at how supply and demand work\\n\\nOver 1.8 million professionals use CFI to learn accounting, financial analysis, modeling and more. Start with a free account to explore 20+ always-free courses and hundreds of finance templates and cheat sheets.\\n\\nStart Free\\nWritten by Tim Vipond\\nWhat are the Laws of Supply and Demand?\\nThe laws of supply and demand are microeconomic concepts that state that in efficient markets, the quantity supplied of a good and quantity demanded of that good are equal to each other. The price of that good is also determined by the point at which supply and demand are equal to each other. Supply and demand are usually expressed in a line graph format, with Quantity (the independent variable) on the y-axis and Price (the dependent variable) on the x-axis.\\n\\nUnderstanding Supply\\nGenerally speaking, the supply of a good and its price are directly proportional to each other and follow a linear relationship. In other words, as price increases, the supply of that good also increases – as demonstrated by the chart below:\\n\\nSupply and Demand: supply\\n\\nThe supply line is seen from a seller’s perspective. The higher the price of a good, the more of that good a seller will want to sell, since doing so will be profitable. Conversely, a low price will not attract many sellers to the market, and the quantity supplied will be lower. Thus, we get a linear relationship.\\n\\nUnderstanding Demand\\nDemand works in the opposite way that supply does, and is inversely proportional to price. In other words, as price increases, the demand for that good will decrease – as demonstrated by the chart below:\\n\\nSupply and Demand: Demand\\n\\nThe demand line is seen from a buyer’s perspective. The higher the price of a good, the lower the number of interested buyers, since buyers want to save as much money as possible. Conversely, a low price will attract many buyers to the market, therefore, the quantity demanded will be higher. Thus, we see an inverse relationship.\\n\\nSupply and Demand Graph\\nNow, let’s combine the above two graphs into one:\\n\\nSupply and Demand Curve\\n\\nBy combining the two graphs, we can observe the point of equilibrium, where the supply and demand lines intersect. Tracing lines directly from the equilibrium point to the x- and y-axes will reveal the Price at Equilibrium (Pe) and Quantity at Equilibrium (Qe), respectively.\\n\\nDoes the Model Hold True in Real Life?\\nIt is important to note that the supply and demand framework does not always happen in real life. It is impossible to calculate Pe and Qe in real life since every individual buyer shows a different willingness to pay for goods, and every seller demonstrates a different willingness to accept prices.\\n\\nFurthermore, there are a host of other real-life factors that interfere with the supply and demand model, such as:\\n\\nMonopolies\\nThe supply and demand model assumes perfect competition, which rarely occurs. In some markets, we see a single very powerful producer of goods. Since buyers are unable to find another place to purchase the goods, they are forced to accept whatever price the seller decides to set. This has been the case for goods with inelastic demand (i.e., essential goods) such as oil, medication, or cigarettes.\\n\\nIn such a scenario, the increase in price will deter a small number of buyers from participating in the market, but the majority will still purchase the monopolized goods at a higher price. The practice is hugely profitable for the seller and, in most cases, illegal.\\n\\ncash \\n\\nPrice Floors\\nPrice floors are price minimums put in place by the government to protect vulnerable sellers. For example, the government might put in a place a price floor on farm goods such as potatoes. Thus, farmers will be guaranteed a certain amount of revenue and will be able to afford a living. In such a scenario, the absence of a price floor may see the price of potatoes plummet to a very low equilibrium price and farmers go into bankruptcy.\\n\\nSubsidies\\nSubsidies can be thought of as an alternative to price floors. Thinking back to the potato example, a subsidy will cover a certain portion of production costs for a farmer. Thus, the farmer will have fewer costs to cover and will be able to capture more sales revenue. This will ensure that the farmer can still afford a living even if the equilibrium price of potatoes ends up being very low.\\n\\nTaxes\\nGovernment-imposed taxes are sometimes put in place to boost government revenue. This may be due to political agendas or a lack of available capital to fund public infrastructure projects. A tax on buyers will mean that buyers will need to purchase a good at a price above the equilibrium. However, the additional profits generated this way will be collected by the government rather than the seller.',\n",
       " 'number': 5,\n",
       " 'subject': 'demand and supply',\n",
       " 'tone': 'simple',\n",
       " 'response_json': '{\"1\": {\"mcq\": \"multiple choice question\", \"options\": {\"a\": \"choice here\", \"b\": \"choice here\", \"c\": \"choice here\", \"d\": \"choice here\"}, \"correct\": \"correct_answer\"}, \"2\": {\"mcq\": \"multiple choice question\", \"options\": {\"a\": \"choice here\", \"b\": \"choice here\", \"c\": \"choice here\", \"d\": \"choice here\"}, \"correct\": \"correct_answer\"}, \"3\": {\"mcq\": \"multiple choice question\", \"options\": {\"a\": \"choice here\", \"b\": \"choice here\", \"c\": \"choice here\", \"d\": \"choice here\"}, \"correct\": \"correct_answer\"}, \"4\": {\"mcq\": \"multiple choice question\", \"options\": {\"a\": \"choice here\", \"b\": \"choice here\", \"c\": \"choice here\", \"d\": \"choice here\"}, \"correct\": \"correct_answer\"}, \"5\": {\"mcq\": \"multiple choice question\", \"options\": {\"a\": \"choice here\", \"b\": \"choice here\", \"c\": \"choice here\", \"d\": \"choice here\"}, \"correct\": \"correct_answer\"}}',\n",
       " 'quiz': '{\\n    \"1\": {\\n        \"mcq\": \"What is the relationship between supply and price?\",\\n        \"options\": {\\n            \"a\": \"Supply and price are inversely proportional\",\\n            \"b\": \"Supply and price are directly proportional\",\\n            \"c\": \"There is no relationship between supply and price\",\\n            \"d\": \"The relationship between supply and price is non-linear\"\\n        },\\n        \"correct\": \"b\"\\n    },\\n    \"2\": {\\n        \"mcq\": \"What is the relationship between demand and price?\",\\n        \"options\": {\\n            \"a\": \"Demand and price are directly proportional\",\\n            \"b\": \"Demand and price are inversely proportional\",\\n            \"c\": \"There is no relationship between demand and price\",\\n            \"d\": \"The relationship between demand and price is non-linear\"\\n        },\\n        \"correct\": \"b\"\\n    },\\n    \"3\": {\\n        \"mcq\": \"What is the point of equilibrium in the supply and demand model?\",\\n        \"options\": {\\n            \"a\": \"The point where supply and demand lines intersect\",\\n            \"b\": \"The point where supply and demand lines are parallel\",\\n            \"c\": \"The point where supply and demand lines diverge\",\\n            \"d\": \"The point where supply and demand lines are perpendicular\"\\n        },\\n        \"correct\": \"a\"\\n    },\\n    \"4\": {\\n        \"mcq\": \"Which of the following factors can interfere with the supply and demand model in real life?\",\\n        \"options\": {\\n            \"a\": \"Monopolies\",\\n            \"b\": \"Price floors\",\\n            \"c\": \"Subsidies\",\\n            \"d\": \"All of the above\"\\n        },\\n        \"correct\": \"d\"\\n    },\\n    \"5\": {\\n        \"mcq\": \"What is the purpose of government-imposed taxes in the supply and demand model?\",\\n        \"options\": {\\n            \"a\": \"To boost government revenue\",\\n            \"b\": \"To protect vulnerable sellers\",\\n            \"c\": \"To increase demand for goods\",\\n            \"d\": \"To decrease supply of goods\"\\n        },\\n        \"correct\": \"a\"\\n    }\\n}',\n",
       " 'review': \"As an expert English grammarian, I will evaluate the complexity of the questions and provide a complete analysis of the quiz, using no more than 50 words for the complexity analysis. If the questions are not suitable for the students' cognitive and analytical abilities, I will update them and adjust the tone accordingly.\\n\\nComplexity Analysis: The questions are well-structured and straightforward, suitable for students with a basic understanding of supply and demand concepts. The language is clear and concise, making the quiz accessible to a wide range of learners.\\n\\nThe quiz questions are appropriate for the intended audience and do not require any modifications. The tone is neutral and professional, fitting for an educational assessment.\"}"
      ]
     },
     "execution_count": 26,
     "metadata": {},
     "output_type": "execute_result"
    }
   ],
   "source": [
    "response_anth"
   ]
  },
  {
   "cell_type": "code",
   "execution_count": 33,
   "metadata": {},
   "outputs": [],
   "source": [
    "quiz_anth =response_anth.get(\"quiz\")"
   ]
  },
  {
   "cell_type": "code",
   "execution_count": 34,
   "metadata": {},
   "outputs": [],
   "source": [
    "quiz_anth = json.loads(quiz_anth)"
   ]
  },
  {
   "cell_type": "code",
   "execution_count": 35,
   "metadata": {},
   "outputs": [],
   "source": [
    "# Create a table for the quiz data\n",
    "quiz_table_data_anth = []\n",
    "for key, value in quiz_anth.items():\n",
    "    mcq = value.get(\"mcq\")\n",
    "    options = \" | \".join(\n",
    "        [\n",
    "            f\"{option} : {option_value}\"\n",
    "            for option, option_value in value[\"options\"].items()\n",
    "            ]\n",
    "        )\n",
    "    correct = value[\"correct\"]\n",
    "    quiz_table_data_anth.append({\"MCQ\": mcq, \"choices\": options, \"correct\": correct})\n"
   ]
  },
  {
   "cell_type": "code",
   "execution_count": 37,
   "metadata": {},
   "outputs": [
    {
     "data": {
      "text/plain": [
       "[{'MCQ': 'What is the relationship between supply and price?',\n",
       "  'choices': 'a : Supply and price are inversely proportional | b : Supply and price are directly proportional | c : There is no relationship between supply and price | d : The relationship between supply and price is non-linear',\n",
       "  'correct': 'b'},\n",
       " {'MCQ': 'What is the relationship between demand and price?',\n",
       "  'choices': 'a : Demand and price are directly proportional | b : Demand and price are inversely proportional | c : There is no relationship between demand and price | d : The relationship between demand and price is non-linear',\n",
       "  'correct': 'b'},\n",
       " {'MCQ': 'What is the point of equilibrium in the supply and demand model?',\n",
       "  'choices': 'a : The point where supply and demand lines intersect | b : The point where supply and demand lines are parallel | c : The point where supply and demand lines diverge | d : The point where supply and demand lines are perpendicular',\n",
       "  'correct': 'a'},\n",
       " {'MCQ': 'Which of the following factors can interfere with the supply and demand model in real life?',\n",
       "  'choices': 'a : Monopolies | b : Price floors | c : Subsidies | d : All of the above',\n",
       "  'correct': 'd'},\n",
       " {'MCQ': 'What is the purpose of government-imposed taxes in the supply and demand model?',\n",
       "  'choices': 'a : To boost government revenue | b : To protect vulnerable sellers | c : To increase demand for goods | d : To decrease supply of goods',\n",
       "  'correct': 'a'}]"
      ]
     },
     "execution_count": 37,
     "metadata": {},
     "output_type": "execute_result"
    }
   ],
   "source": [
    "quiz_table_data_anth"
   ]
  },
  {
   "cell_type": "code",
   "execution_count": 38,
   "metadata": {},
   "outputs": [],
   "source": [
    "quiz = pd.DataFrame(quiz_table_data_anth)"
   ]
  },
  {
   "cell_type": "code",
   "execution_count": 39,
   "metadata": {},
   "outputs": [],
   "source": [
    "quiz.to_csv(\"quiz.csv\", index=False)"
   ]
  },
  {
   "cell_type": "code",
   "execution_count": null,
   "metadata": {},
   "outputs": [],
   "source": []
  }
 ],
 "metadata": {
  "kernelspec": {
   "display_name": "Python 3",
   "language": "python",
   "name": "python3"
  },
  "language_info": {
   "codemirror_mode": {
    "name": "ipython",
    "version": 3
   },
   "file_extension": ".py",
   "mimetype": "text/x-python",
   "name": "python",
   "nbconvert_exporter": "python",
   "pygments_lexer": "ipython3",
   "version": "3.10.13"
  }
 },
 "nbformat": 4,
 "nbformat_minor": 2
}
