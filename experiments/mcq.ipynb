{
 "cells": [
  {
   "cell_type": "code",
   "execution_count": 7,
   "metadata": {},
   "outputs": [],
   "source": [
    "import os\n",
    "import json\n",
    "import pandas as pd\n",
    "import traceback\n",
    "\n",
    "# https://python.langchain.com/docs/integrations/chat/openai\n",
    "from langchain.chat_models import ChatOpenAI"
   ]
  },
  {
   "cell_type": "code",
   "execution_count": 8,
   "metadata": {},
   "outputs": [
    {
     "name": "stderr",
     "output_type": "stream",
     "text": [
      "Python-dotenv could not parse statement starting at line 1\n"
     ]
    },
    {
     "data": {
      "text/plain": [
       "True"
      ]
     },
     "execution_count": 8,
     "metadata": {},
     "output_type": "execute_result"
    }
   ],
   "source": [
    "from dotenv import load_dotenv\n",
    "\n",
    "load_dotenv()"
   ]
  },
  {
   "cell_type": "code",
   "execution_count": 9,
   "metadata": {},
   "outputs": [],
   "source": [
    "APIKEY_OPENAI = os.getenv(\"APIKEY_OPENAI\")"
   ]
  },
  {
   "cell_type": "code",
   "execution_count": 10,
   "metadata": {},
   "outputs": [
    {
     "name": "stderr",
     "output_type": "stream",
     "text": [
      "/home/pjlinux/projects/mcqgen/env/lib/python3.10/site-packages/langchain_core/_api/deprecation.py:117: LangChainDeprecationWarning: The class `langchain_community.chat_models.openai.ChatOpenAI` was deprecated in langchain-community 0.0.10 and will be removed in 0.2.0. An updated version of the class exists in the langchain-openai package and should be used instead. To use it run `pip install -U langchain-openai` and import as `from langchain_openai import ChatOpenAI`.\n",
      "  warn_deprecated(\n"
     ]
    }
   ],
   "source": [
    "# Initialize ChatopenAI\n",
    "llm = ChatOpenAI(openai_api_key=APIKEY_OPENAI, model_name=\"gpt-3.5-turbo\",temperature=0.5)"
   ]
  },
  {
   "cell_type": "code",
   "execution_count": 11,
   "metadata": {},
   "outputs": [],
   "source": [
    "from langchain.llms import OpenAI\n",
    "from langchain_community.callbacks import get_openai_callback\n",
    "from langchain.prompts import PromptTemplate\n",
    "from langchain.chains import LLMChain\n",
    "from langchain.chains import  SequentialChain"
   ]
  },
  {
   "cell_type": "code",
   "execution_count": 12,
   "metadata": {},
   "outputs": [],
   "source": [
    "# JSON response for the chatbot\n",
    "RESPONSE_JSON = {\n",
    "    \"1\": {\n",
    "        \"mcq\":\"multiple choice question\",\n",
    "        \"options\":{\"a\":\"choice here\",\n",
    "                   \"b\":\"choice here\",\n",
    "                   \"c\":\"choice here\",\n",
    "                   \"d\":\"choice here\"\n",
    "                   },\n",
    "        \"correct\":\"correct_answer\",\n",
    "    },\n",
    "    \"2\": {\n",
    "        \"mcq\":\"multiple choice question\",\n",
    "        \"options\":{\"a\":\"choice here\",\n",
    "                   \"b\":\"choice here\",\n",
    "                   \"c\":\"choice here\",\n",
    "                   \"d\":\"choice here\"\n",
    "                   },\n",
    "        \"correct\":\"correct_answer\",\n",
    "    },\n",
    "    \"3\": {\n",
    "        \"mcq\":\"multiple choice question\",\n",
    "        \"options\":{\"a\":\"choice here\",\n",
    "                   \"b\":\"choice here\",\n",
    "                   \"c\":\"choice here\",\n",
    "                   \"d\":\"choice here\"\n",
    "                   },\n",
    "        \"correct\":\"correct_answer\",\n",
    "    },\n",
    "    \"4\": {\n",
    "        \"mcq\": \"multiple choice question\",\n",
    "        \"options\": {\n",
    "            \"a\": \"choice here\",\n",
    "            \"b\": \"choice here\",\n",
    "            \"c\": \"choice here\",\n",
    "            \"d\": \"choice here\"\n",
    "        },\n",
    "        \"correct\": \"correct_answer\"\n",
    "    },\n",
    "    \"5\": {\n",
    "        \"mcq\":\"multiple choice question\",\n",
    "        \"options\":{\"a\":\"choice here\",\n",
    "                   \"b\":\"choice here\",\n",
    "                   \"c\":\"choice here\",\n",
    "                   \"d\":\"choice here\"\n",
    "                   },\n",
    "        \"correct\":\"correct_answer\",\n",
    "    }\n",
    "}"
   ]
  },
  {
   "cell_type": "code",
   "execution_count": 13,
   "metadata": {},
   "outputs": [],
   "source": [
    "# Template 1 for the prompt\n",
    "TEMPLATE =\"\"\"\n",
    "text:{text}\n",
    "You are an expert MCQ maker. Give the above text, it is your job to\\\n",
    "create a quize of {number} multiple choice questions for {subject} in a {tone} tone\\\n",
    "Make sure questions are not repeated and check all question to be confirming to the text as well. \\\n",
    "Make sure to format your resepomse like RESPONSE_JSON below and use it as a guide.  \\\n",
    "Ensure to make {number} MCQs\n",
    "###RESPONSE_JSON\n",
    "\n",
    "{response_json}\n",
    "\"\"\"\n"
   ]
  },
  {
   "cell_type": "code",
   "execution_count": 14,
   "metadata": {},
   "outputs": [],
   "source": [
    "# Quiz generation prompt\n",
    "quiz_generation_prompt = PromptTemplate(\n",
    "    input_variables=[\"text\", \"number\", \"subject\", \"tone\", \"response_json\"],\n",
    "    template=TEMPLATE\n",
    ")"
   ]
  },
  {
   "cell_type": "code",
   "execution_count": 15,
   "metadata": {},
   "outputs": [],
   "source": [
    "# Quiz generation chain\n",
    "quize_chain = LLMChain(llm=llm, prompt=quiz_generation_prompt, output_key=\"quiz\", verbose=True)"
   ]
  },
  {
   "cell_type": "code",
   "execution_count": 16,
   "metadata": {},
   "outputs": [],
   "source": [
    "# Template 2 for the prompt\n",
    "TEMPLATE2=\"\"\"\n",
    "Your are an expert English grammerian. Give a multiple choice quiz for {subject} students. \\\n",
    "    you need to evaluate the complexity of the question and give a complete analysis of the quiz. \n",
    "    Only use at max 50 words for the complexity analysis. \\\n",
    "    If the questions are not in par with the student's cognitive and analytical abilities of the student, \\\n",
    "    Update the questions which needs to be changed and change the tone such that it perfectly fits the student's cognitive and analytical abilities. \\\n",
    "    Quiz_MCQs: \n",
    "    {quiz}\n",
    "\n",
    "    check from an expert English writer of the above quiz:\n",
    "    \"\"\""
   ]
  },
  {
   "cell_type": "code",
   "execution_count": 17,
   "metadata": {},
   "outputs": [],
   "source": [
    "# Question evaluation prompt\n",
    "quiz_evaluation_prompt = PromptTemplate(\n",
    "    input_variables=[\"subject\", \"quiz\"],\n",
    "    template=TEMPLATE2\n",
    ")"
   ]
  },
  {
   "cell_type": "code",
   "execution_count": 18,
   "metadata": {},
   "outputs": [],
   "source": [
    "# Quiz evaluation chain\n",
    "review_chain = LLMChain(llm=llm, prompt=quiz_evaluation_prompt, output_key=\"review\", verbose=True)"
   ]
  },
  {
   "cell_type": "code",
   "execution_count": 19,
   "metadata": {},
   "outputs": [],
   "source": [
    "# Sequential chain for quiz generation and evaluation\n",
    "generate_evaluate_chain = SequentialChain(  \n",
    "    chains=[quize_chain, review_chain],\n",
    "    input_variables=[\"text\", \"number\", \"subject\", \"tone\", \"response_json\"],\n",
    "    output_variables=[\"quiz\", \"review\"],\n",
    "    verbose=True\n",
    ")"
   ]
  },
  {
   "cell_type": "code",
   "execution_count": 20,
   "metadata": {},
   "outputs": [],
   "source": [
    "# File path for the Text data\n",
    "file_path = r\"/home/pjlinux/projects/mcqgen/data.txt\""
   ]
  },
  {
   "cell_type": "code",
   "execution_count": 21,
   "metadata": {},
   "outputs": [],
   "source": [
    "# Read the TEXT data\n",
    "with open(file_path, \"r\") as file:\n",
    "    TEXT = file.read()"
   ]
  },
  {
   "cell_type": "code",
   "execution_count": 22,
   "metadata": {},
   "outputs": [
    {
     "data": {
      "text/plain": [
       "'{\"1\": {\"mcq\": \"multiple choice question\", \"options\": {\"a\": \"choice here\", \"b\": \"choice here\", \"c\": \"choice here\", \"d\": \"choice here\"}, \"correct\": \"correct_answer\"}, \"2\": {\"mcq\": \"multiple choice question\", \"options\": {\"a\": \"choice here\", \"b\": \"choice here\", \"c\": \"choice here\", \"d\": \"choice here\"}, \"correct\": \"correct_answer\"}, \"3\": {\"mcq\": \"multiple choice question\", \"options\": {\"a\": \"choice here\", \"b\": \"choice here\", \"c\": \"choice here\", \"d\": \"choice here\"}, \"correct\": \"correct_answer\"}, \"4\": {\"mcq\": \"multiple choice question\", \"options\": {\"a\": \"choice here\", \"b\": \"choice here\", \"c\": \"choice here\", \"d\": \"choice here\"}, \"correct\": \"correct_answer\"}, \"5\": {\"mcq\": \"multiple choice question\", \"options\": {\"a\": \"choice here\", \"b\": \"choice here\", \"c\": \"choice here\", \"d\": \"choice here\"}, \"correct\": \"correct_answer\"}}'"
      ]
     },
     "execution_count": 22,
     "metadata": {},
     "output_type": "execute_result"
    }
   ],
   "source": [
    "# Serialize python dictionary to JSON\n",
    "json.dumps(RESPONSE_JSON)"
   ]
  },
  {
   "cell_type": "code",
   "execution_count": 23,
   "metadata": {},
   "outputs": [],
   "source": [
    "NUMBER = 5\n",
    "SUBJECT = \"Production Possibility Frontier\"\n",
    "TONE = \"difficult\""
   ]
  },
  {
   "cell_type": "code",
   "execution_count": 24,
   "metadata": {},
   "outputs": [
    {
     "name": "stderr",
     "output_type": "stream",
     "text": [
      "/home/pjlinux/projects/mcqgen/env/lib/python3.10/site-packages/langchain_core/_api/deprecation.py:117: LangChainDeprecationWarning: The function `__call__` was deprecated in LangChain 0.1.0 and will be removed in 0.2.0. Use invoke instead.\n",
      "  warn_deprecated(\n"
     ]
    },
    {
     "name": "stdout",
     "output_type": "stream",
     "text": [
      "\n",
      "\n",
      "\u001b[1m> Entering new SequentialChain chain...\u001b[0m\n",
      "\n",
      "\n",
      "\u001b[1m> Entering new LLMChain chain...\u001b[0m\n",
      "Prompt after formatting:\n",
      "\u001b[32;1m\u001b[1;3m\n",
      "text:Demystifying Choices: Understanding the Production Possibility Curve\n",
      "Imagine a world where you can have everything you desire. Unfortunately, reality presents limitations. In economics, the Production Possibility Curve (PPC) depicts this very concept – the trade-offs between producing two goods or services within a given timeframe and resource constraints.\n",
      "\n",
      "Visualizing Scarcity: The Curve Explained\n",
      "\n",
      "The PPC is a graph with two axes representing the production quantities of two goods (Good A and Good B). Each point on the curve signifies a feasible production combination achievable with the available resources (labor, capital, technology). Points inside the curve imply underutilization of resources, while points outside represent an unrealistic scenario exceeding resource capacity.\n",
      "\n",
      "The PPC typically slopes downward from left to right, signifying the trade-off. To produce more of Good A, you must sacrifice some production of Good B, and vice versa. This reflects the scarcity of resources – increasing one production inevitably requires decreasing another.\n",
      "\n",
      "The Shape of the Curve: Efficiency and Beyond\n",
      "\n",
      "The shape of the PPC reveals insights into production efficiency. A straight line signifies a constant trade-off ratio. A curved line, usually concave from above, indicates a diminishing marginal rate of transformation (MRRT). In simpler terms, as you produce more of Good A, the amount of Good B you need to give up increases progressively.\n",
      "\n",
      "Beyond the Curve: Efficiency Frontiers and Technological Advancements\n",
      "\n",
      "Points beyond the PPC are technically impossible with current resources. However, the PPC is not static. Technological advancements can shift the curve outwards, allowing for greater production possibilities for both goods. This signifies increased efficiency in resource utilization.\n",
      "\n",
      "Applications: Making Informed Choices\n",
      "\n",
      "The PPC has numerous applications in economic decision-making. It helps:\n",
      "\n",
      "Visualize Trade-offs: Businesses and policymakers understand the opportunity cost of production choices.\n",
      "Analyze Resource Allocation: Evaluate allocation strategies to optimize production within resource constraints.\n",
      "Predict Economic Growth: Shifts in PPC due to technological advancements indicate economic growth potential.\n",
      "Limitations: A Simplified Reality\n",
      "\n",
      "The PPC is a simplified model. It assumes constant technology, complete resource utilization, and production of only two goods. In reality, economies produce a wider variety of goods, resource utilization might be imperfect, and technology can change rapidly.\n",
      "\n",
      "Conclusion: A Powerful Tool, Yet Not a Crystal Ball\n",
      "\n",
      "Despite its limitations, the Production Possibility Curve remains a powerful tool for understanding the trade-offs inherent in production. By visualizing scarcity and the opportunity cost of choices, it helps businesses and policymakers make informed decisions in a resource-constrained world. The PPC reminds us that maximizing one production often necessitates sacrificing another, a valuable lesson in navigating the economic landscape.\n",
      "You are an expert MCQ maker. Give the above text, it is your job tocreate a quize of 5 multiple choice questions for Production Possibility Frontier in a difficult toneMake sure questions are not repeated and check all question to be confirming to the text as well. Make sure to format your resepomse like RESPONSE_JSON below and use it as a guide.  Ensure to make 5 MCQs\n",
      "###RESPONSE_JSON\n",
      "{\"1\": {\"mcq\": \"multiple choice question\", \"options\": {\"a\": \"choice here\", \"b\": \"choice here\", \"c\": \"choice here\", \"d\": \"choice here\"}, \"correct\": \"correct_answer\"}, \"2\": {\"mcq\": \"multiple choice question\", \"options\": {\"a\": \"choice here\", \"b\": \"choice here\", \"c\": \"choice here\", \"d\": \"choice here\"}, \"correct\": \"correct_answer\"}, \"3\": {\"mcq\": \"multiple choice question\", \"options\": {\"a\": \"choice here\", \"b\": \"choice here\", \"c\": \"choice here\", \"d\": \"choice here\"}, \"correct\": \"correct_answer\"}, \"4\": {\"mcq\": \"multiple choice question\", \"options\": {\"a\": \"choice here\", \"b\": \"choice here\", \"c\": \"choice here\", \"d\": \"choice here\"}, \"correct\": \"correct_answer\"}, \"5\": {\"mcq\": \"multiple choice question\", \"options\": {\"a\": \"choice here\", \"b\": \"choice here\", \"c\": \"choice here\", \"d\": \"choice here\"}, \"correct\": \"correct_answer\"}}\n",
      "\u001b[0m\n",
      "\n",
      "\u001b[1m> Finished chain.\u001b[0m\n",
      "\n",
      "\n",
      "\u001b[1m> Entering new LLMChain chain...\u001b[0m\n",
      "Prompt after formatting:\n",
      "\u001b[32;1m\u001b[1;3m\n",
      "Your are an expert English grammerian. Give a multiple choice quiz for Production Possibility Frontier students.     you need to evaluate the complexity of the question and give a complete analysis of the quiz. \n",
      "    Only use at max 50 words for the complexity analysis.     If the questions are not in par with the student's cognitive and analytical abilities of the student,     Update the questions which needs to be changed and change the tone such that it perfectly fits the student's cognitive and analytical abilities.     Quiz_MCQs: \n",
      "    ###RESPONSE_JSON\n",
      "{\"1\": {\"mcq\": \"What does the Production Possibility Curve depict?\", \"options\": {\"a\": \"Opportunity cost of choices\", \"b\": \"Scarcity of resources\", \"c\": \"Trade-offs between producing two goods\", \"d\": \"Efficiency in resource utilization\"}, \"correct\": \"c\"}, \"2\": {\"mcq\": \"What does a straight line on the PPC signify?\", \"options\": {\"a\": \"Diminishing marginal rate of transformation\", \"b\": \"Constant trade-off ratio\", \"c\": \"Underutilization of resources\", \"d\": \"Unrealistic scenario exceeding resource capacity\"}, \"correct\": \"b\"}, \"3\": {\"mcq\": \"What can shift the PPC outwards to allow for greater production possibilities?\", \"options\": {\"a\": \"Decreased efficiency\", \"b\": \"Technological advancements\", \"c\": \"Underutilization of resources\", \"d\": \"Unrealistic scenarios\"}, \"correct\": \"b\"}, \"4\": {\"mcq\": \"What do points beyond the PPC signify?\", \"options\": {\"a\": \"Underutilization of resources\", \"b\": \"Technically impossible with current resources\", \"c\": \"Optimal resource allocation\", \"d\": \"Constant technology\"}, \"correct\": \"b\"}, \"5\": {\"mcq\": \"What does the PPC help businesses and policymakers understand?\", \"options\": {\"a\": \"Economic growth potential\", \"b\": \"Resource constraints\", \"c\": \"Opportunity cost of production choices\", \"d\": \"Technological advancements\"}, \"correct\": \"c\"}}\n",
      "\n",
      "    check from an expert English writer of the above quiz:\n",
      "    \u001b[0m\n",
      "\n",
      "\u001b[1m> Finished chain.\u001b[0m\n",
      "\n",
      "\u001b[1m> Finished chain.\u001b[0m\n"
     ]
    }
   ],
   "source": [
    "# https://python.langchain.com/docs/modules/model_io/llms/token_usage_tracking\n",
    "\n",
    "# How to use the token usage tracking\n",
    "with get_openai_callback() as cb:\n",
    "    response=generate_evaluate_chain(\n",
    "    {\n",
    "        \"text\": TEXT,\n",
    "        \"number\": NUMBER,\n",
    "        \"subject\": SUBJECT,\n",
    "        \"tone\": TONE,\n",
    "        \"response_json\": json.dumps(RESPONSE_JSON)\n",
    "    }\n",
    "    )"
   ]
  },
  {
   "cell_type": "code",
   "execution_count": 25,
   "metadata": {},
   "outputs": [
    {
     "name": "stdout",
     "output_type": "stream",
     "text": [
      "Total Tokens: 1733\n",
      "Prompt Tokens: 1346\n",
      "Completion Tokens: 387\n",
      "Total Cost (USD): $0.0027930000000000003\n"
     ]
    }
   ],
   "source": [
    "# Print token usage\n",
    "print(f\"Total Tokens: {cb.total_tokens}\")\n",
    "print(f\"Prompt Tokens: {cb.prompt_tokens}\")\n",
    "print(f\"Completion Tokens: {cb.completion_tokens}\")\n",
    "print(f\"Total Cost (USD): ${cb.total_cost}\")"
   ]
  },
  {
   "cell_type": "code",
   "execution_count": 26,
   "metadata": {},
   "outputs": [
    {
     "data": {
      "text/plain": [
       "{'text': 'Demystifying Choices: Understanding the Production Possibility Curve\\nImagine a world where you can have everything you desire. Unfortunately, reality presents limitations. In economics, the Production Possibility Curve (PPC) depicts this very concept – the trade-offs between producing two goods or services within a given timeframe and resource constraints.\\n\\nVisualizing Scarcity: The Curve Explained\\n\\nThe PPC is a graph with two axes representing the production quantities of two goods (Good A and Good B). Each point on the curve signifies a feasible production combination achievable with the available resources (labor, capital, technology). Points inside the curve imply underutilization of resources, while points outside represent an unrealistic scenario exceeding resource capacity.\\n\\nThe PPC typically slopes downward from left to right, signifying the trade-off. To produce more of Good A, you must sacrifice some production of Good B, and vice versa. This reflects the scarcity of resources – increasing one production inevitably requires decreasing another.\\n\\nThe Shape of the Curve: Efficiency and Beyond\\n\\nThe shape of the PPC reveals insights into production efficiency. A straight line signifies a constant trade-off ratio. A curved line, usually concave from above, indicates a diminishing marginal rate of transformation (MRRT). In simpler terms, as you produce more of Good A, the amount of Good B you need to give up increases progressively.\\n\\nBeyond the Curve: Efficiency Frontiers and Technological Advancements\\n\\nPoints beyond the PPC are technically impossible with current resources. However, the PPC is not static. Technological advancements can shift the curve outwards, allowing for greater production possibilities for both goods. This signifies increased efficiency in resource utilization.\\n\\nApplications: Making Informed Choices\\n\\nThe PPC has numerous applications in economic decision-making. It helps:\\n\\nVisualize Trade-offs: Businesses and policymakers understand the opportunity cost of production choices.\\nAnalyze Resource Allocation: Evaluate allocation strategies to optimize production within resource constraints.\\nPredict Economic Growth: Shifts in PPC due to technological advancements indicate economic growth potential.\\nLimitations: A Simplified Reality\\n\\nThe PPC is a simplified model. It assumes constant technology, complete resource utilization, and production of only two goods. In reality, economies produce a wider variety of goods, resource utilization might be imperfect, and technology can change rapidly.\\n\\nConclusion: A Powerful Tool, Yet Not a Crystal Ball\\n\\nDespite its limitations, the Production Possibility Curve remains a powerful tool for understanding the trade-offs inherent in production. By visualizing scarcity and the opportunity cost of choices, it helps businesses and policymakers make informed decisions in a resource-constrained world. The PPC reminds us that maximizing one production often necessitates sacrificing another, a valuable lesson in navigating the economic landscape.',\n",
       " 'number': 5,\n",
       " 'subject': 'Production Possibility Frontier',\n",
       " 'tone': 'difficult',\n",
       " 'response_json': '{\"1\": {\"mcq\": \"multiple choice question\", \"options\": {\"a\": \"choice here\", \"b\": \"choice here\", \"c\": \"choice here\", \"d\": \"choice here\"}, \"correct\": \"correct_answer\"}, \"2\": {\"mcq\": \"multiple choice question\", \"options\": {\"a\": \"choice here\", \"b\": \"choice here\", \"c\": \"choice here\", \"d\": \"choice here\"}, \"correct\": \"correct_answer\"}, \"3\": {\"mcq\": \"multiple choice question\", \"options\": {\"a\": \"choice here\", \"b\": \"choice here\", \"c\": \"choice here\", \"d\": \"choice here\"}, \"correct\": \"correct_answer\"}, \"4\": {\"mcq\": \"multiple choice question\", \"options\": {\"a\": \"choice here\", \"b\": \"choice here\", \"c\": \"choice here\", \"d\": \"choice here\"}, \"correct\": \"correct_answer\"}, \"5\": {\"mcq\": \"multiple choice question\", \"options\": {\"a\": \"choice here\", \"b\": \"choice here\", \"c\": \"choice here\", \"d\": \"choice here\"}, \"correct\": \"correct_answer\"}}',\n",
       " 'quiz': '###RESPONSE_JSON\\n{\"1\": {\"mcq\": \"What does the Production Possibility Curve depict?\", \"options\": {\"a\": \"Opportunity cost of choices\", \"b\": \"Scarcity of resources\", \"c\": \"Trade-offs between producing two goods\", \"d\": \"Efficiency in resource utilization\"}, \"correct\": \"c\"}, \"2\": {\"mcq\": \"What does a straight line on the PPC signify?\", \"options\": {\"a\": \"Diminishing marginal rate of transformation\", \"b\": \"Constant trade-off ratio\", \"c\": \"Underutilization of resources\", \"d\": \"Unrealistic scenario exceeding resource capacity\"}, \"correct\": \"b\"}, \"3\": {\"mcq\": \"What can shift the PPC outwards to allow for greater production possibilities?\", \"options\": {\"a\": \"Decreased efficiency\", \"b\": \"Technological advancements\", \"c\": \"Underutilization of resources\", \"d\": \"Unrealistic scenarios\"}, \"correct\": \"b\"}, \"4\": {\"mcq\": \"What do points beyond the PPC signify?\", \"options\": {\"a\": \"Underutilization of resources\", \"b\": \"Technically impossible with current resources\", \"c\": \"Optimal resource allocation\", \"d\": \"Constant technology\"}, \"correct\": \"b\"}, \"5\": {\"mcq\": \"What does the PPC help businesses and policymakers understand?\", \"options\": {\"a\": \"Economic growth potential\", \"b\": \"Resource constraints\", \"c\": \"Opportunity cost of production choices\", \"d\": \"Technological advancements\"}, \"correct\": \"c\"}}',\n",
       " 'review': 'The quiz on the Production Possibility Frontier is well-structured and appropriate for students studying the concept. The questions cover key aspects such as the depiction of the curve, significance of different scenarios, and the implications for businesses and policymakers. The multiple-choice format allows for easy assessment.'}"
      ]
     },
     "execution_count": 26,
     "metadata": {},
     "output_type": "execute_result"
    }
   ],
   "source": [
    "response"
   ]
  },
  {
   "cell_type": "code",
   "execution_count": 27,
   "metadata": {},
   "outputs": [],
   "source": [
    "quiz = response.get(\"quiz\")"
   ]
  },
  {
   "cell_type": "code",
   "execution_count": 28,
   "metadata": {},
   "outputs": [
    {
     "ename": "JSONDecodeError",
     "evalue": "Expecting value: line 1 column 1 (char 0)",
     "output_type": "error",
     "traceback": [
      "\u001b[0;31m---------------------------------------------------------------------------\u001b[0m",
      "\u001b[0;31mJSONDecodeError\u001b[0m                           Traceback (most recent call last)",
      "Cell \u001b[0;32mIn[28], line 1\u001b[0m\n\u001b[0;32m----> 1\u001b[0m quiz \u001b[38;5;241m=\u001b[39m \u001b[43mjson\u001b[49m\u001b[38;5;241;43m.\u001b[39;49m\u001b[43mloads\u001b[49m\u001b[43m(\u001b[49m\u001b[43mquiz\u001b[49m\u001b[43m)\u001b[49m\n",
      "File \u001b[0;32m~/projects/mcqgen/env/lib/python3.10/json/__init__.py:346\u001b[0m, in \u001b[0;36mloads\u001b[0;34m(s, cls, object_hook, parse_float, parse_int, parse_constant, object_pairs_hook, **kw)\u001b[0m\n\u001b[1;32m    341\u001b[0m     s \u001b[38;5;241m=\u001b[39m s\u001b[38;5;241m.\u001b[39mdecode(detect_encoding(s), \u001b[38;5;124m'\u001b[39m\u001b[38;5;124msurrogatepass\u001b[39m\u001b[38;5;124m'\u001b[39m)\n\u001b[1;32m    343\u001b[0m \u001b[38;5;28;01mif\u001b[39;00m (\u001b[38;5;28mcls\u001b[39m \u001b[38;5;129;01mis\u001b[39;00m \u001b[38;5;28;01mNone\u001b[39;00m \u001b[38;5;129;01mand\u001b[39;00m object_hook \u001b[38;5;129;01mis\u001b[39;00m \u001b[38;5;28;01mNone\u001b[39;00m \u001b[38;5;129;01mand\u001b[39;00m\n\u001b[1;32m    344\u001b[0m         parse_int \u001b[38;5;129;01mis\u001b[39;00m \u001b[38;5;28;01mNone\u001b[39;00m \u001b[38;5;129;01mand\u001b[39;00m parse_float \u001b[38;5;129;01mis\u001b[39;00m \u001b[38;5;28;01mNone\u001b[39;00m \u001b[38;5;129;01mand\u001b[39;00m\n\u001b[1;32m    345\u001b[0m         parse_constant \u001b[38;5;129;01mis\u001b[39;00m \u001b[38;5;28;01mNone\u001b[39;00m \u001b[38;5;129;01mand\u001b[39;00m object_pairs_hook \u001b[38;5;129;01mis\u001b[39;00m \u001b[38;5;28;01mNone\u001b[39;00m \u001b[38;5;129;01mand\u001b[39;00m \u001b[38;5;129;01mnot\u001b[39;00m kw):\n\u001b[0;32m--> 346\u001b[0m     \u001b[38;5;28;01mreturn\u001b[39;00m \u001b[43m_default_decoder\u001b[49m\u001b[38;5;241;43m.\u001b[39;49m\u001b[43mdecode\u001b[49m\u001b[43m(\u001b[49m\u001b[43ms\u001b[49m\u001b[43m)\u001b[49m\n\u001b[1;32m    347\u001b[0m \u001b[38;5;28;01mif\u001b[39;00m \u001b[38;5;28mcls\u001b[39m \u001b[38;5;129;01mis\u001b[39;00m \u001b[38;5;28;01mNone\u001b[39;00m:\n\u001b[1;32m    348\u001b[0m     \u001b[38;5;28mcls\u001b[39m \u001b[38;5;241m=\u001b[39m JSONDecoder\n",
      "File \u001b[0;32m~/projects/mcqgen/env/lib/python3.10/json/decoder.py:337\u001b[0m, in \u001b[0;36mJSONDecoder.decode\u001b[0;34m(self, s, _w)\u001b[0m\n\u001b[1;32m    332\u001b[0m \u001b[38;5;28;01mdef\u001b[39;00m \u001b[38;5;21mdecode\u001b[39m(\u001b[38;5;28mself\u001b[39m, s, _w\u001b[38;5;241m=\u001b[39mWHITESPACE\u001b[38;5;241m.\u001b[39mmatch):\n\u001b[1;32m    333\u001b[0m \u001b[38;5;250m    \u001b[39m\u001b[38;5;124;03m\"\"\"Return the Python representation of ``s`` (a ``str`` instance\u001b[39;00m\n\u001b[1;32m    334\u001b[0m \u001b[38;5;124;03m    containing a JSON document).\u001b[39;00m\n\u001b[1;32m    335\u001b[0m \n\u001b[1;32m    336\u001b[0m \u001b[38;5;124;03m    \"\"\"\u001b[39;00m\n\u001b[0;32m--> 337\u001b[0m     obj, end \u001b[38;5;241m=\u001b[39m \u001b[38;5;28;43mself\u001b[39;49m\u001b[38;5;241;43m.\u001b[39;49m\u001b[43mraw_decode\u001b[49m\u001b[43m(\u001b[49m\u001b[43ms\u001b[49m\u001b[43m,\u001b[49m\u001b[43m \u001b[49m\u001b[43midx\u001b[49m\u001b[38;5;241;43m=\u001b[39;49m\u001b[43m_w\u001b[49m\u001b[43m(\u001b[49m\u001b[43ms\u001b[49m\u001b[43m,\u001b[49m\u001b[43m \u001b[49m\u001b[38;5;241;43m0\u001b[39;49m\u001b[43m)\u001b[49m\u001b[38;5;241;43m.\u001b[39;49m\u001b[43mend\u001b[49m\u001b[43m(\u001b[49m\u001b[43m)\u001b[49m\u001b[43m)\u001b[49m\n\u001b[1;32m    338\u001b[0m     end \u001b[38;5;241m=\u001b[39m _w(s, end)\u001b[38;5;241m.\u001b[39mend()\n\u001b[1;32m    339\u001b[0m     \u001b[38;5;28;01mif\u001b[39;00m end \u001b[38;5;241m!=\u001b[39m \u001b[38;5;28mlen\u001b[39m(s):\n",
      "File \u001b[0;32m~/projects/mcqgen/env/lib/python3.10/json/decoder.py:355\u001b[0m, in \u001b[0;36mJSONDecoder.raw_decode\u001b[0;34m(self, s, idx)\u001b[0m\n\u001b[1;32m    353\u001b[0m     obj, end \u001b[38;5;241m=\u001b[39m \u001b[38;5;28mself\u001b[39m\u001b[38;5;241m.\u001b[39mscan_once(s, idx)\n\u001b[1;32m    354\u001b[0m \u001b[38;5;28;01mexcept\u001b[39;00m \u001b[38;5;167;01mStopIteration\u001b[39;00m \u001b[38;5;28;01mas\u001b[39;00m err:\n\u001b[0;32m--> 355\u001b[0m     \u001b[38;5;28;01mraise\u001b[39;00m JSONDecodeError(\u001b[38;5;124m\"\u001b[39m\u001b[38;5;124mExpecting value\u001b[39m\u001b[38;5;124m\"\u001b[39m, s, err\u001b[38;5;241m.\u001b[39mvalue) \u001b[38;5;28;01mfrom\u001b[39;00m \u001b[38;5;28;01mNone\u001b[39;00m\n\u001b[1;32m    356\u001b[0m \u001b[38;5;28;01mreturn\u001b[39;00m obj, end\n",
      "\u001b[0;31mJSONDecodeError\u001b[0m: Expecting value: line 1 column 1 (char 0)"
     ]
    }
   ],
   "source": [
    "quiz = json.loads(quiz)"
   ]
  },
  {
   "cell_type": "code",
   "execution_count": 29,
   "metadata": {},
   "outputs": [],
   "source": [
    "review = response.get(\"review\")"
   ]
  },
  {
   "cell_type": "code",
   "execution_count": 30,
   "metadata": {},
   "outputs": [
    {
     "name": "stdout",
     "output_type": "stream",
     "text": [
      "The quiz on the Production Possibility Frontier is well-structured and appropriate for students studying the concept. The questions cover key aspects such as the depiction of the curve, significance of different scenarios, and the implications for businesses and policymakers. The multiple-choice format allows for easy assessment.\n"
     ]
    }
   ],
   "source": [
    "print(review)"
   ]
  },
  {
   "cell_type": "code",
   "execution_count": 31,
   "metadata": {},
   "outputs": [
    {
     "ename": "AttributeError",
     "evalue": "'str' object has no attribute 'items'",
     "output_type": "error",
     "traceback": [
      "\u001b[0;31m---------------------------------------------------------------------------\u001b[0m",
      "\u001b[0;31mAttributeError\u001b[0m                            Traceback (most recent call last)",
      "Cell \u001b[0;32mIn[31], line 3\u001b[0m\n\u001b[1;32m      1\u001b[0m \u001b[38;5;66;03m# Create a table for the quiz data\u001b[39;00m\n\u001b[1;32m      2\u001b[0m quiz_table_data \u001b[38;5;241m=\u001b[39m []\n\u001b[0;32m----> 3\u001b[0m \u001b[38;5;28;01mfor\u001b[39;00m key, value \u001b[38;5;129;01min\u001b[39;00m \u001b[43mquiz\u001b[49m\u001b[38;5;241;43m.\u001b[39;49m\u001b[43mitems\u001b[49m():\n\u001b[1;32m      4\u001b[0m     mcq \u001b[38;5;241m=\u001b[39m value\u001b[38;5;241m.\u001b[39mget(\u001b[38;5;124m\"\u001b[39m\u001b[38;5;124mmcq\u001b[39m\u001b[38;5;124m\"\u001b[39m)\n\u001b[1;32m      5\u001b[0m     options \u001b[38;5;241m=\u001b[39m \u001b[38;5;124m\"\u001b[39m\u001b[38;5;124m | \u001b[39m\u001b[38;5;124m\"\u001b[39m\u001b[38;5;241m.\u001b[39mjoin(\n\u001b[1;32m      6\u001b[0m         [\n\u001b[1;32m      7\u001b[0m             \u001b[38;5;124mf\u001b[39m\u001b[38;5;124m\"\u001b[39m\u001b[38;5;132;01m{\u001b[39;00moption\u001b[38;5;132;01m}\u001b[39;00m\u001b[38;5;124m : \u001b[39m\u001b[38;5;132;01m{\u001b[39;00moption_value\u001b[38;5;132;01m}\u001b[39;00m\u001b[38;5;124m\"\u001b[39m\n\u001b[1;32m      8\u001b[0m             \u001b[38;5;28;01mfor\u001b[39;00m option, option_value \u001b[38;5;129;01min\u001b[39;00m value[\u001b[38;5;124m\"\u001b[39m\u001b[38;5;124moptions\u001b[39m\u001b[38;5;124m\"\u001b[39m]\u001b[38;5;241m.\u001b[39mitems()\n\u001b[1;32m      9\u001b[0m             ]\n\u001b[1;32m     10\u001b[0m         )\n",
      "\u001b[0;31mAttributeError\u001b[0m: 'str' object has no attribute 'items'"
     ]
    }
   ],
   "source": [
    "# Create a table for the quiz data\n",
    "quiz_table_data = []\n",
    "for key, value in quiz.items():\n",
    "    mcq = value.get(\"mcq\")\n",
    "    options = \" | \".join(\n",
    "        [\n",
    "            f\"{option} : {option_value}\"\n",
    "            for option, option_value in value[\"options\"].items()\n",
    "            ]\n",
    "        )\n",
    "    correct = value[\"correct\"]\n",
    "    quiz_table_data.append({\"MCQ\": mcq, \"choices\": options, \"correct\": correct})\n"
   ]
  },
  {
   "cell_type": "code",
   "execution_count": 27,
   "metadata": {},
   "outputs": [
    {
     "data": {
      "text/plain": [
       "[{'MCQ': 'What does a point inside the Production Possibility Curve signify?',\n",
       "  'choices': 'a : Optimal resource utilization | b : Underutilization of resources | c : Unrealistic scenario | d : Efficiency frontiers',\n",
       "  'correct': 'b'},\n",
       " {'MCQ': 'What does a curved Production Possibility Curve indicate?',\n",
       "  'choices': 'a : Constant trade-off ratio | b : Diminishing marginal rate of transformation | c : Optimal resource allocation | d : Technological advancements',\n",
       "  'correct': 'b'},\n",
       " {'MCQ': 'What can shift the Production Possibility Curve outwards?',\n",
       "  'choices': 'a : Decreased efficiency | b : Resource scarcity | c : Technological advancements | d : Unrealistic scenarios',\n",
       "  'correct': 'c'},\n",
       " {'MCQ': 'What does the Production Possibility Curve help visualize?',\n",
       "  'choices': 'a : Resource abundance | b : Opportunity cost of production choices | c : Complete resource utilization | d : Static technology',\n",
       "  'correct': 'b'},\n",
       " {'MCQ': 'What is a limitation of the Production Possibility Curve model?',\n",
       "  'choices': 'a : Assumes constant technology | b : Produces a wide variety of goods | c : Imperfect resource utilization | d : Rapid technological changes',\n",
       "  'correct': 'a'}]"
      ]
     },
     "execution_count": 27,
     "metadata": {},
     "output_type": "execute_result"
    }
   ],
   "source": [
    "quiz_table_data"
   ]
  },
  {
   "cell_type": "code",
   "execution_count": 6,
   "metadata": {},
   "outputs": [
    {
     "ename": "NameError",
     "evalue": "name 'quiz_table_data' is not defined",
     "output_type": "error",
     "traceback": [
      "\u001b[0;31m---------------------------------------------------------------------------\u001b[0m",
      "\u001b[0;31mNameError\u001b[0m                                 Traceback (most recent call last)",
      "Cell \u001b[0;32mIn[6], line 1\u001b[0m\n\u001b[0;32m----> 1\u001b[0m quiz \u001b[38;5;241m=\u001b[39m pd\u001b[38;5;241m.\u001b[39mDataFrame(\u001b[43mquiz_table_data\u001b[49m)\n",
      "\u001b[0;31mNameError\u001b[0m: name 'quiz_table_data' is not defined"
     ]
    }
   ],
   "source": [
    "quiz = pd.DataFrame(quiz_table_data)"
   ]
  },
  {
   "cell_type": "code",
   "execution_count": 29,
   "metadata": {},
   "outputs": [],
   "source": [
    "quiz.to_csv(\"quiz.csv\", index=False)"
   ]
  },
  {
   "cell_type": "code",
   "execution_count": 3,
   "metadata": {},
   "outputs": [
    {
     "ename": "NameError",
     "evalue": "name 'quiz' is not defined",
     "output_type": "error",
     "traceback": [
      "\u001b[0;31m---------------------------------------------------------------------------\u001b[0m",
      "\u001b[0;31mNameError\u001b[0m                                 Traceback (most recent call last)",
      "Cell \u001b[0;32mIn[3], line 1\u001b[0m\n\u001b[0;32m----> 1\u001b[0m \u001b[43mquiz\u001b[49m\n",
      "\u001b[0;31mNameError\u001b[0m: name 'quiz' is not defined"
     ]
    }
   ],
   "source": [
    "quiz"
   ]
  },
  {
   "cell_type": "code",
   "execution_count": null,
   "metadata": {},
   "outputs": [],
   "source": []
  }
 ],
 "metadata": {
  "kernelspec": {
   "display_name": "Python 3",
   "language": "python",
   "name": "python3"
  },
  "language_info": {
   "codemirror_mode": {
    "name": "ipython",
    "version": 3
   },
   "file_extension": ".py",
   "mimetype": "text/x-python",
   "name": "python",
   "nbconvert_exporter": "python",
   "pygments_lexer": "ipython3",
   "version": "3.10.13"
  }
 },
 "nbformat": 4,
 "nbformat_minor": 2
}
