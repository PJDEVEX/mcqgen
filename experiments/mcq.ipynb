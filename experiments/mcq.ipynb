{
 "cells": [
  {
   "cell_type": "code",
   "execution_count": 7,
   "metadata": {},
   "outputs": [],
   "source": [
    "import os\n",
    "import json\n",
    "import pandas as pd\n",
    "import traceback\n",
    "\n",
    "# https://python.langchain.com/docs/integrations/chat/openai\n",
    "from langchain.chat_models import ChatOpenAI"
   ]
  },
  {
   "cell_type": "code",
   "execution_count": 8,
   "metadata": {},
   "outputs": [
    {
     "name": "stderr",
     "output_type": "stream",
     "text": [
      "Python-dotenv could not parse statement starting at line 1\n"
     ]
    },
    {
     "data": {
      "text/plain": [
       "True"
      ]
     },
     "execution_count": 8,
     "metadata": {},
     "output_type": "execute_result"
    }
   ],
   "source": [
    "from dotenv import load_dotenv\n",
    "\n",
    "load_dotenv()"
   ]
  },
  {
   "cell_type": "code",
   "execution_count": 9,
   "metadata": {},
   "outputs": [],
   "source": [
    "APIKEY_OPENAI = os.getenv(\"APIKEY_OPENAI\")"
   ]
  },
  {
   "cell_type": "code",
   "execution_count": 10,
   "metadata": {},
   "outputs": [
    {
     "name": "stderr",
     "output_type": "stream",
     "text": [
      "/home/pjlinux/projects/mcqgen/env/lib/python3.10/site-packages/langchain_core/_api/deprecation.py:117: LangChainDeprecationWarning: The class `langchain_community.chat_models.openai.ChatOpenAI` was deprecated in langchain-community 0.0.10 and will be removed in 0.2.0. An updated version of the class exists in the langchain-openai package and should be used instead. To use it run `pip install -U langchain-openai` and import as `from langchain_openai import ChatOpenAI`.\n",
      "  warn_deprecated(\n"
     ]
    }
   ],
   "source": [
    "# Initialize ChatopenAI\n",
    "llm = ChatOpenAI(openai_api_key=APIKEY_OPENAI, model_name=\"gpt-3.5-turbo\",temperature=0.5)"
   ]
  },
  {
   "cell_type": "code",
   "execution_count": 11,
   "metadata": {},
   "outputs": [],
   "source": [
    "from langchain.llms import OpenAI\n",
    "from langchain_community.callbacks import get_openai_callback\n",
    "from langchain.prompts import PromptTemplate\n",
    "from langchain.chains import LLMChain\n",
    "from langchain.chains import  SequentialChain"
   ]
  },
  {
   "cell_type": "code",
   "execution_count": 12,
   "metadata": {},
   "outputs": [],
   "source": [
    "# JSON response for the chatbot\n",
    "RESPONSE_JSON = {\n",
    "    \"1\": {\n",
    "        \"mcq\":\"multiple choice question\",\n",
    "        \"options\":{\"a\":\"choice here\",\n",
    "                   \"b\":\"choice here\",\n",
    "                   \"c\":\"choice here\",\n",
    "                   \"d\":\"choice here\"\n",
    "                   },\n",
    "        \"correct\":\"correct_answer\",\n",
    "    },\n",
    "    \"2\": {\n",
    "        \"mcq\":\"multiple choice question\",\n",
    "        \"options\":{\"a\":\"choice here\",\n",
    "                   \"b\":\"choice here\",\n",
    "                   \"c\":\"choice here\",\n",
    "                   \"d\":\"choice here\"\n",
    "                   },\n",
    "        \"correct\":\"correct_answer\",\n",
    "    },\n",
    "    \"3\": {\n",
    "        \"mcq\":\"multiple choice question\",\n",
    "        \"options\":{\"a\":\"choice here\",\n",
    "                   \"b\":\"choice here\",\n",
    "                   \"c\":\"choice here\",\n",
    "                   \"d\":\"choice here\"\n",
    "                   },\n",
    "        \"correct\":\"correct_answer\",\n",
    "    },\n",
    "    \"4\": {\n",
    "        \"mcq\": \"multiple choice question\",\n",
    "        \"options\": {\n",
    "            \"a\": \"choice here\",\n",
    "            \"b\": \"choice here\",\n",
    "            \"c\": \"choice here\",\n",
    "            \"d\": \"choice here\"\n",
    "        },\n",
    "        \"correct\": \"correct_answer\"\n",
    "    },\n",
    "    \"5\": {\n",
    "        \"mcq\":\"multiple choice question\",\n",
    "        \"options\":{\"a\":\"choice here\",\n",
    "                   \"b\":\"choice here\",\n",
    "                   \"c\":\"choice here\",\n",
    "                   \"d\":\"choice here\"\n",
    "                   },\n",
    "        \"correct\":\"correct_answer\",\n",
    "    }\n",
    "}"
   ]
  },
  {
   "cell_type": "code",
   "execution_count": 32,
   "metadata": {},
   "outputs": [],
   "source": [
    "# Template 1 for the prompt\n",
    "TEMPLATE =\"\"\"\n",
    "text:{text}\n",
    "You are an expert MCQ maker. Give the above text, it is your job to\\\n",
    "create a quize of {number} multiple choice questions for {subject} in a {tone} tone\\\n",
    "Make sure questions are not repeated and check all question to be confirming to the text as well. \\\n",
    "Make sure to format your resepomse like RESPONSE_JSON below and use it as a guide.  \\\n",
    "Ensure to make {number} MCQs\n",
    "###RESPONSE_JSON\n",
    "\n",
    "{response_json}\n",
    "\"\"\"\n"
   ]
  },
  {
   "cell_type": "code",
   "execution_count": 33,
   "metadata": {},
   "outputs": [],
   "source": [
    "# Quiz generation prompt\n",
    "quiz_generation_prompt = PromptTemplate(\n",
    "    input_variables=[\"text\", \"number\", \"subject\", \"tone\", \"response_json\"],\n",
    "    template=TEMPLATE\n",
    ")"
   ]
  },
  {
   "cell_type": "code",
   "execution_count": 34,
   "metadata": {},
   "outputs": [],
   "source": [
    "# Quiz generation chain\n",
    "quize_chain = LLMChain(llm=llm, prompt=quiz_generation_prompt, output_key=\"quiz\", verbose=True)"
   ]
  },
  {
   "cell_type": "code",
   "execution_count": 35,
   "metadata": {},
   "outputs": [],
   "source": [
    "# Template 2 for the prompt\n",
    "TEMPLATE2=\"\"\"\n",
    "Your are an expert English grammerian. Give a multiple choice quiz for {subject} students. \\\n",
    "    you need to evaluate the complexity of the question and give a complete analysis of the quiz. \n",
    "    Only use at max 50 words for the complexity analysis. \\\n",
    "    If the questions are not in par with the student's cognitive and analytical abilities of the student, \\\n",
    "    Update the questions which needs to be changed and change the tone such that it perfectly fits the student's cognitive and analytical abilities. \\\n",
    "    Quiz_MCQs: \n",
    "    {quiz}\n",
    "\n",
    "    check from an expert English writer of the above quiz:\n",
    "    \"\"\""
   ]
  },
  {
   "cell_type": "code",
   "execution_count": 36,
   "metadata": {},
   "outputs": [],
   "source": [
    "# Question evaluation prompt\n",
    "quiz_evaluation_prompt = PromptTemplate(\n",
    "    input_variables=[\"subject\", \"quiz\"],\n",
    "    template=TEMPLATE2\n",
    ")"
   ]
  },
  {
   "cell_type": "code",
   "execution_count": 37,
   "metadata": {},
   "outputs": [],
   "source": [
    "# Quiz evaluation chain\n",
    "review_chain = LLMChain(llm=llm, prompt=quiz_evaluation_prompt, output_key=\"review\", verbose=True)"
   ]
  },
  {
   "cell_type": "code",
   "execution_count": 38,
   "metadata": {},
   "outputs": [],
   "source": [
    "# Sequential chain for quiz generation and evaluation\n",
    "generate_evaluate_chain = SequentialChain(  \n",
    "    chains=[quize_chain, review_chain],\n",
    "    input_variables=[\"text\", \"number\", \"subject\", \"tone\", \"response_json\"],\n",
    "    output_variables=[\"quiz\", \"review\"],\n",
    "    verbose=True\n",
    ")"
   ]
  },
  {
   "cell_type": "code",
   "execution_count": 39,
   "metadata": {},
   "outputs": [],
   "source": [
    "# File path for the Text data\n",
    "file_path = r\"/home/pjlinux/projects/mcqgen/data.txt\""
   ]
  },
  {
   "cell_type": "code",
   "execution_count": 40,
   "metadata": {},
   "outputs": [],
   "source": [
    "# Read the TEXT data\n",
    "with open(file_path, \"r\") as file:\n",
    "    TEXT = file.read()"
   ]
  },
  {
   "cell_type": "code",
   "execution_count": 41,
   "metadata": {},
   "outputs": [
    {
     "data": {
      "text/plain": [
       "'{\"1\": {\"mcq\": \"multiple choice question\", \"options\": {\"a\": \"choice here\", \"b\": \"choice here\", \"c\": \"choice here\", \"d\": \"choice here\"}, \"correct\": \"correct_answer\"}, \"2\": {\"mcq\": \"multiple choice question\", \"options\": {\"a\": \"choice here\", \"b\": \"choice here\", \"c\": \"choice here\", \"d\": \"choice here\"}, \"correct\": \"correct_answer\"}, \"3\": {\"mcq\": \"multiple choice question\", \"options\": {\"a\": \"choice here\", \"b\": \"choice here\", \"c\": \"choice here\", \"d\": \"choice here\"}, \"correct\": \"correct_answer\"}, \"4\": {\"mcq\": \"multiple choice question\", \"options\": {\"a\": \"choice here\", \"b\": \"choice here\", \"c\": \"choice here\", \"d\": \"choice here\"}, \"correct\": \"correct_answer\"}, \"5\": {\"mcq\": \"multiple choice question\", \"options\": {\"a\": \"choice here\", \"b\": \"choice here\", \"c\": \"choice here\", \"d\": \"choice here\"}, \"correct\": \"correct_answer\"}}'"
      ]
     },
     "execution_count": 41,
     "metadata": {},
     "output_type": "execute_result"
    }
   ],
   "source": [
    "# Serialize python dictionary to JSON\n",
    "json.dumps(RESPONSE_JSON)"
   ]
  },
  {
   "cell_type": "code",
   "execution_count": 42,
   "metadata": {},
   "outputs": [],
   "source": [
    "NUMBER = 5\n",
    "SUBJECT = \"Production Possibility Frontier\"\n",
    "TONE = \"difficult\""
   ]
  },
  {
   "cell_type": "code",
   "execution_count": 43,
   "metadata": {},
   "outputs": [
    {
     "name": "stdout",
     "output_type": "stream",
     "text": [
      "\n",
      "\n",
      "\u001b[1m> Entering new SequentialChain chain...\u001b[0m\n",
      "\n",
      "\n",
      "\u001b[1m> Entering new LLMChain chain...\u001b[0m\n",
      "Prompt after formatting:\n",
      "\u001b[32;1m\u001b[1;3m\n",
      "text:Demystifying Choices: Understanding the Production Possibility Curve\n",
      "Imagine a world where you can have everything you desire. Unfortunately, reality presents limitations. In economics, the Production Possibility Curve (PPC) depicts this very concept – the trade-offs between producing two goods or services within a given timeframe and resource constraints.\n",
      "\n",
      "Visualizing Scarcity: The Curve Explained\n",
      "\n",
      "The PPC is a graph with two axes representing the production quantities of two goods (Good A and Good B). Each point on the curve signifies a feasible production combination achievable with the available resources (labor, capital, technology). Points inside the curve imply underutilization of resources, while points outside represent an unrealistic scenario exceeding resource capacity.\n",
      "\n",
      "The PPC typically slopes downward from left to right, signifying the trade-off. To produce more of Good A, you must sacrifice some production of Good B, and vice versa. This reflects the scarcity of resources – increasing one production inevitably requires decreasing another.\n",
      "\n",
      "The Shape of the Curve: Efficiency and Beyond\n",
      "\n",
      "The shape of the PPC reveals insights into production efficiency. A straight line signifies a constant trade-off ratio. A curved line, usually concave from above, indicates a diminishing marginal rate of transformation (MRRT). In simpler terms, as you produce more of Good A, the amount of Good B you need to give up increases progressively.\n",
      "\n",
      "Beyond the Curve: Efficiency Frontiers and Technological Advancements\n",
      "\n",
      "Points beyond the PPC are technically impossible with current resources. However, the PPC is not static. Technological advancements can shift the curve outwards, allowing for greater production possibilities for both goods. This signifies increased efficiency in resource utilization.\n",
      "\n",
      "Applications: Making Informed Choices\n",
      "\n",
      "The PPC has numerous applications in economic decision-making. It helps:\n",
      "\n",
      "Visualize Trade-offs: Businesses and policymakers understand the opportunity cost of production choices.\n",
      "Analyze Resource Allocation: Evaluate allocation strategies to optimize production within resource constraints.\n",
      "Predict Economic Growth: Shifts in PPC due to technological advancements indicate economic growth potential.\n",
      "Limitations: A Simplified Reality\n",
      "\n",
      "The PPC is a simplified model. It assumes constant technology, complete resource utilization, and production of only two goods. In reality, economies produce a wider variety of goods, resource utilization might be imperfect, and technology can change rapidly.\n",
      "\n",
      "Conclusion: A Powerful Tool, Yet Not a Crystal Ball\n",
      "\n",
      "Despite its limitations, the Production Possibility Curve remains a powerful tool for understanding the trade-offs inherent in production. By visualizing scarcity and the opportunity cost of choices, it helps businesses and policymakers make informed decisions in a resource-constrained world. The PPC reminds us that maximizing one production often necessitates sacrificing another, a valuable lesson in navigating the economic landscape.\n",
      "You are an expert MCQ maker. Give the above text, it is your job tocreate a quize of 5 multiple choice questions for Production Possibility Frontier in a difficult toneMake sure questions are not repeated and check all question to be confirming to the text as well. Make sure to format your resepomse like RESPONSE_JSON below and use it as a guide.  Ensure to make 5 MCQs\n",
      "###RESPONSE_JSON\n",
      "\n",
      "{\"1\": {\"mcq\": \"multiple choice question\", \"options\": {\"a\": \"choice here\", \"b\": \"choice here\", \"c\": \"choice here\", \"d\": \"choice here\"}, \"correct\": \"correct_answer\"}, \"2\": {\"mcq\": \"multiple choice question\", \"options\": {\"a\": \"choice here\", \"b\": \"choice here\", \"c\": \"choice here\", \"d\": \"choice here\"}, \"correct\": \"correct_answer\"}, \"3\": {\"mcq\": \"multiple choice question\", \"options\": {\"a\": \"choice here\", \"b\": \"choice here\", \"c\": \"choice here\", \"d\": \"choice here\"}, \"correct\": \"correct_answer\"}, \"4\": {\"mcq\": \"multiple choice question\", \"options\": {\"a\": \"choice here\", \"b\": \"choice here\", \"c\": \"choice here\", \"d\": \"choice here\"}, \"correct\": \"correct_answer\"}, \"5\": {\"mcq\": \"multiple choice question\", \"options\": {\"a\": \"choice here\", \"b\": \"choice here\", \"c\": \"choice here\", \"d\": \"choice here\"}, \"correct\": \"correct_answer\"}}\n",
      "\u001b[0m\n",
      "\n",
      "\u001b[1m> Finished chain.\u001b[0m\n",
      "\n",
      "\n",
      "\u001b[1m> Entering new LLMChain chain...\u001b[0m\n",
      "Prompt after formatting:\n",
      "\u001b[32;1m\u001b[1;3m\n",
      "Your are an expert English grammerian. Give a multiple choice quiz for Production Possibility Frontier students.     you need to evaluate the complexity of the question and give a complete analysis of the quiz. \n",
      "    Only use at max 50 words for the complexity analysis.     If the questions are not in par with the student's cognitive and analytical abilities of the student,     Update the questions which needs to be changed and change the tone such that it perfectly fits the student's cognitive and analytical abilities.     Quiz_MCQs: \n",
      "    {\n",
      "\"1\": {\n",
      "\"mcq\": \"What does the Production Possibility Curve (PPC) depict?\",\n",
      "\"options\": {\n",
      "\"a\": \"Unlimited production possibilities\",\n",
      "\"b\": \"Feasible production combinations within constraints\",\n",
      "\"c\": \"Unrealistic production scenarios\",\n",
      "\"d\": \"Underutilization of resources\"\n",
      "},\n",
      "\"correct\": \"b\"\n",
      "},\n",
      "\"2\": {\n",
      "\"mcq\": \"What does a point inside the PPC signify?\",\n",
      "\"options\": {\n",
      "\"a\": \"Optimal resource utilization\",\n",
      "\"b\": \"Feasible production combination\",\n",
      "\"c\": \"Underutilization of resources\",\n",
      "\"d\": \"Unrealistic production scenario\"\n",
      "},\n",
      "\"correct\": \"c\"\n",
      "},\n",
      "\"3\": {\n",
      "\"mcq\": \"What does a curved PPC line indicate?\",\n",
      "\"options\": {\n",
      "\"a\": \"Constant trade-off ratio\",\n",
      "\"b\": \"Diminishing marginal rate of transformation\",\n",
      "\"c\": \"Optimal resource allocation\",\n",
      "\"d\": \"Unrealistic production scenario\"\n",
      "},\n",
      "\"correct\": \"b\"\n",
      "},\n",
      "\"4\": {\n",
      "\"mcq\": \"What can shift the PPC outwards to allow for greater production possibilities?\",\n",
      "\"options\": {\n",
      "\"a\": \"Decreased efficiency\",\n",
      "\"b\": \"Technological advancements\",\n",
      "\"c\": \"Underutilization of resources\",\n",
      "\"d\": \"Unrealistic production scenarios\"\n",
      "},\n",
      "\"correct\": \"b\"\n",
      "},\n",
      "\"5\": {\n",
      "\"mcq\": \"What does the PPC help businesses and policymakers understand?\",\n",
      "\"options\": {\n",
      "\"a\": \"Opportunity cost of production choices\",\n",
      "\"b\": \"Unlimited production possibilities\",\n",
      "\"c\": \"Complete resource utilization\",\n",
      "\"d\": \"Constant technology\"\n",
      "},\n",
      "\"correct\": \"a\"\n",
      "}\n",
      "}\n",
      "\n",
      "    check from an expert English writer of the above quiz:\n",
      "    \u001b[0m\n",
      "\n",
      "\u001b[1m> Finished chain.\u001b[0m\n",
      "\n",
      "\u001b[1m> Finished chain.\u001b[0m\n"
     ]
    }
   ],
   "source": [
    "# https://python.langchain.com/docs/modules/model_io/llms/token_usage_tracking\n",
    "\n",
    "# How to use the token usage tracking\n",
    "with get_openai_callback() as cb:\n",
    "    response=generate_evaluate_chain(\n",
    "    {\n",
    "        \"text\": TEXT,\n",
    "        \"number\": NUMBER,\n",
    "        \"subject\": SUBJECT,\n",
    "        \"tone\": TONE,\n",
    "        \"response_json\": json.dumps(RESPONSE_JSON)\n",
    "    }\n",
    "    )"
   ]
  },
  {
   "cell_type": "code",
   "execution_count": 44,
   "metadata": {},
   "outputs": [
    {
     "name": "stdout",
     "output_type": "stream",
     "text": [
      "Total Tokens: 1746\n",
      "Prompt Tokens: 1350\n",
      "Completion Tokens: 396\n",
      "Total Cost (USD): $0.002817\n"
     ]
    }
   ],
   "source": [
    "# Print token usage\n",
    "print(f\"Total Tokens: {cb.total_tokens}\")\n",
    "print(f\"Prompt Tokens: {cb.prompt_tokens}\")\n",
    "print(f\"Completion Tokens: {cb.completion_tokens}\")\n",
    "print(f\"Total Cost (USD): ${cb.total_cost}\")"
   ]
  },
  {
   "cell_type": "code",
   "execution_count": 45,
   "metadata": {},
   "outputs": [
    {
     "data": {
      "text/plain": [
       "{'text': 'Demystifying Choices: Understanding the Production Possibility Curve\\nImagine a world where you can have everything you desire. Unfortunately, reality presents limitations. In economics, the Production Possibility Curve (PPC) depicts this very concept – the trade-offs between producing two goods or services within a given timeframe and resource constraints.\\n\\nVisualizing Scarcity: The Curve Explained\\n\\nThe PPC is a graph with two axes representing the production quantities of two goods (Good A and Good B). Each point on the curve signifies a feasible production combination achievable with the available resources (labor, capital, technology). Points inside the curve imply underutilization of resources, while points outside represent an unrealistic scenario exceeding resource capacity.\\n\\nThe PPC typically slopes downward from left to right, signifying the trade-off. To produce more of Good A, you must sacrifice some production of Good B, and vice versa. This reflects the scarcity of resources – increasing one production inevitably requires decreasing another.\\n\\nThe Shape of the Curve: Efficiency and Beyond\\n\\nThe shape of the PPC reveals insights into production efficiency. A straight line signifies a constant trade-off ratio. A curved line, usually concave from above, indicates a diminishing marginal rate of transformation (MRRT). In simpler terms, as you produce more of Good A, the amount of Good B you need to give up increases progressively.\\n\\nBeyond the Curve: Efficiency Frontiers and Technological Advancements\\n\\nPoints beyond the PPC are technically impossible with current resources. However, the PPC is not static. Technological advancements can shift the curve outwards, allowing for greater production possibilities for both goods. This signifies increased efficiency in resource utilization.\\n\\nApplications: Making Informed Choices\\n\\nThe PPC has numerous applications in economic decision-making. It helps:\\n\\nVisualize Trade-offs: Businesses and policymakers understand the opportunity cost of production choices.\\nAnalyze Resource Allocation: Evaluate allocation strategies to optimize production within resource constraints.\\nPredict Economic Growth: Shifts in PPC due to technological advancements indicate economic growth potential.\\nLimitations: A Simplified Reality\\n\\nThe PPC is a simplified model. It assumes constant technology, complete resource utilization, and production of only two goods. In reality, economies produce a wider variety of goods, resource utilization might be imperfect, and technology can change rapidly.\\n\\nConclusion: A Powerful Tool, Yet Not a Crystal Ball\\n\\nDespite its limitations, the Production Possibility Curve remains a powerful tool for understanding the trade-offs inherent in production. By visualizing scarcity and the opportunity cost of choices, it helps businesses and policymakers make informed decisions in a resource-constrained world. The PPC reminds us that maximizing one production often necessitates sacrificing another, a valuable lesson in navigating the economic landscape.',\n",
       " 'number': 5,\n",
       " 'subject': 'Production Possibility Frontier',\n",
       " 'tone': 'difficult',\n",
       " 'response_json': '{\"1\": {\"mcq\": \"multiple choice question\", \"options\": {\"a\": \"choice here\", \"b\": \"choice here\", \"c\": \"choice here\", \"d\": \"choice here\"}, \"correct\": \"correct_answer\"}, \"2\": {\"mcq\": \"multiple choice question\", \"options\": {\"a\": \"choice here\", \"b\": \"choice here\", \"c\": \"choice here\", \"d\": \"choice here\"}, \"correct\": \"correct_answer\"}, \"3\": {\"mcq\": \"multiple choice question\", \"options\": {\"a\": \"choice here\", \"b\": \"choice here\", \"c\": \"choice here\", \"d\": \"choice here\"}, \"correct\": \"correct_answer\"}, \"4\": {\"mcq\": \"multiple choice question\", \"options\": {\"a\": \"choice here\", \"b\": \"choice here\", \"c\": \"choice here\", \"d\": \"choice here\"}, \"correct\": \"correct_answer\"}, \"5\": {\"mcq\": \"multiple choice question\", \"options\": {\"a\": \"choice here\", \"b\": \"choice here\", \"c\": \"choice here\", \"d\": \"choice here\"}, \"correct\": \"correct_answer\"}}',\n",
       " 'quiz': '{\\n\"1\": {\\n\"mcq\": \"What does the Production Possibility Curve (PPC) depict?\",\\n\"options\": {\\n\"a\": \"Unlimited production possibilities\",\\n\"b\": \"Feasible production combinations within constraints\",\\n\"c\": \"Unrealistic production scenarios\",\\n\"d\": \"Underutilization of resources\"\\n},\\n\"correct\": \"b\"\\n},\\n\"2\": {\\n\"mcq\": \"What does a point inside the PPC signify?\",\\n\"options\": {\\n\"a\": \"Optimal resource utilization\",\\n\"b\": \"Feasible production combination\",\\n\"c\": \"Underutilization of resources\",\\n\"d\": \"Unrealistic production scenario\"\\n},\\n\"correct\": \"c\"\\n},\\n\"3\": {\\n\"mcq\": \"What does a curved PPC line indicate?\",\\n\"options\": {\\n\"a\": \"Constant trade-off ratio\",\\n\"b\": \"Diminishing marginal rate of transformation\",\\n\"c\": \"Optimal resource allocation\",\\n\"d\": \"Unrealistic production scenario\"\\n},\\n\"correct\": \"b\"\\n},\\n\"4\": {\\n\"mcq\": \"What can shift the PPC outwards to allow for greater production possibilities?\",\\n\"options\": {\\n\"a\": \"Decreased efficiency\",\\n\"b\": \"Technological advancements\",\\n\"c\": \"Underutilization of resources\",\\n\"d\": \"Unrealistic production scenarios\"\\n},\\n\"correct\": \"b\"\\n},\\n\"5\": {\\n\"mcq\": \"What does the PPC help businesses and policymakers understand?\",\\n\"options\": {\\n\"a\": \"Opportunity cost of production choices\",\\n\"b\": \"Unlimited production possibilities\",\\n\"c\": \"Complete resource utilization\",\\n\"d\": \"Constant technology\"\\n},\\n\"correct\": \"a\"\\n}\\n}',\n",
       " 'review': 'The quiz on Production Possibility Frontier is clear and suitable for students to test their understanding. The questions cover key concepts like feasibility, resource utilization, and the impact of technological advancements. The options provide a good range of choices for students to consider. The language used is appropriate and easy to comprehend.'}"
      ]
     },
     "execution_count": 45,
     "metadata": {},
     "output_type": "execute_result"
    }
   ],
   "source": [
    "response"
   ]
  },
  {
   "cell_type": "code",
   "execution_count": 46,
   "metadata": {},
   "outputs": [],
   "source": [
    "quiz = response.get(\"quiz\")"
   ]
  },
  {
   "cell_type": "code",
   "execution_count": 47,
   "metadata": {},
   "outputs": [],
   "source": [
    "quiz = json.loads(quiz)"
   ]
  },
  {
   "cell_type": "code",
   "execution_count": 48,
   "metadata": {},
   "outputs": [],
   "source": [
    "review = response.get(\"review\")"
   ]
  },
  {
   "cell_type": "code",
   "execution_count": 49,
   "metadata": {},
   "outputs": [
    {
     "name": "stdout",
     "output_type": "stream",
     "text": [
      "The quiz on Production Possibility Frontier is clear and suitable for students to test their understanding. The questions cover key concepts like feasibility, resource utilization, and the impact of technological advancements. The options provide a good range of choices for students to consider. The language used is appropriate and easy to comprehend.\n"
     ]
    }
   ],
   "source": [
    "print(review)"
   ]
  },
  {
   "cell_type": "code",
   "execution_count": 50,
   "metadata": {},
   "outputs": [],
   "source": [
    "# Create a table for the quiz data\n",
    "quiz_table_data = []\n",
    "for key, value in quiz.items():\n",
    "    mcq = value.get(\"mcq\")\n",
    "    options = \" | \".join(\n",
    "        [\n",
    "            f\"{option} : {option_value}\"\n",
    "            for option, option_value in value[\"options\"].items()\n",
    "            ]\n",
    "        )\n",
    "    correct = value[\"correct\"]\n",
    "    quiz_table_data.append({\"MCQ\": mcq, \"choices\": options, \"correct\": correct})\n"
   ]
  },
  {
   "cell_type": "code",
   "execution_count": 51,
   "metadata": {},
   "outputs": [
    {
     "data": {
      "text/plain": [
       "[{'MCQ': 'What does the Production Possibility Curve (PPC) depict?',\n",
       "  'choices': 'a : Unlimited production possibilities | b : Feasible production combinations within constraints | c : Unrealistic production scenarios | d : Underutilization of resources',\n",
       "  'correct': 'b'},\n",
       " {'MCQ': 'What does a point inside the PPC signify?',\n",
       "  'choices': 'a : Optimal resource utilization | b : Feasible production combination | c : Underutilization of resources | d : Unrealistic production scenario',\n",
       "  'correct': 'c'},\n",
       " {'MCQ': 'What does a curved PPC line indicate?',\n",
       "  'choices': 'a : Constant trade-off ratio | b : Diminishing marginal rate of transformation | c : Optimal resource allocation | d : Unrealistic production scenario',\n",
       "  'correct': 'b'},\n",
       " {'MCQ': 'What can shift the PPC outwards to allow for greater production possibilities?',\n",
       "  'choices': 'a : Decreased efficiency | b : Technological advancements | c : Underutilization of resources | d : Unrealistic production scenarios',\n",
       "  'correct': 'b'},\n",
       " {'MCQ': 'What does the PPC help businesses and policymakers understand?',\n",
       "  'choices': 'a : Opportunity cost of production choices | b : Unlimited production possibilities | c : Complete resource utilization | d : Constant technology',\n",
       "  'correct': 'a'}]"
      ]
     },
     "execution_count": 51,
     "metadata": {},
     "output_type": "execute_result"
    }
   ],
   "source": [
    "quiz_table_data"
   ]
  },
  {
   "cell_type": "code",
   "execution_count": 52,
   "metadata": {},
   "outputs": [],
   "source": [
    "quiz = pd.DataFrame(quiz_table_data)"
   ]
  },
  {
   "cell_type": "code",
   "execution_count": 55,
   "metadata": {},
   "outputs": [],
   "source": [
    "quiz.to_csv(\"quiz.csv\", index=False)"
   ]
  },
  {
   "cell_type": "code",
   "execution_count": 54,
   "metadata": {},
   "outputs": [
    {
     "data": {
      "text/html": [
       "<div>\n",
       "<style scoped>\n",
       "    .dataframe tbody tr th:only-of-type {\n",
       "        vertical-align: middle;\n",
       "    }\n",
       "\n",
       "    .dataframe tbody tr th {\n",
       "        vertical-align: top;\n",
       "    }\n",
       "\n",
       "    .dataframe thead th {\n",
       "        text-align: right;\n",
       "    }\n",
       "</style>\n",
       "<table border=\"1\" class=\"dataframe\">\n",
       "  <thead>\n",
       "    <tr style=\"text-align: right;\">\n",
       "      <th></th>\n",
       "      <th>MCQ</th>\n",
       "      <th>choices</th>\n",
       "      <th>correct</th>\n",
       "    </tr>\n",
       "  </thead>\n",
       "  <tbody>\n",
       "    <tr>\n",
       "      <th>0</th>\n",
       "      <td>What does the Production Possibility Curve (PP...</td>\n",
       "      <td>a : Unlimited production possibilities | b : F...</td>\n",
       "      <td>b</td>\n",
       "    </tr>\n",
       "    <tr>\n",
       "      <th>1</th>\n",
       "      <td>What does a point inside the PPC signify?</td>\n",
       "      <td>a : Optimal resource utilization | b : Feasibl...</td>\n",
       "      <td>c</td>\n",
       "    </tr>\n",
       "    <tr>\n",
       "      <th>2</th>\n",
       "      <td>What does a curved PPC line indicate?</td>\n",
       "      <td>a : Constant trade-off ratio | b : Diminishing...</td>\n",
       "      <td>b</td>\n",
       "    </tr>\n",
       "    <tr>\n",
       "      <th>3</th>\n",
       "      <td>What can shift the PPC outwards to allow for g...</td>\n",
       "      <td>a : Decreased efficiency | b : Technological a...</td>\n",
       "      <td>b</td>\n",
       "    </tr>\n",
       "    <tr>\n",
       "      <th>4</th>\n",
       "      <td>What does the PPC help businesses and policyma...</td>\n",
       "      <td>a : Opportunity cost of production choices | b...</td>\n",
       "      <td>a</td>\n",
       "    </tr>\n",
       "  </tbody>\n",
       "</table>\n",
       "</div>"
      ],
      "text/plain": [
       "                                                 MCQ  \\\n",
       "0  What does the Production Possibility Curve (PP...   \n",
       "1          What does a point inside the PPC signify?   \n",
       "2              What does a curved PPC line indicate?   \n",
       "3  What can shift the PPC outwards to allow for g...   \n",
       "4  What does the PPC help businesses and policyma...   \n",
       "\n",
       "                                             choices correct  \n",
       "0  a : Unlimited production possibilities | b : F...       b  \n",
       "1  a : Optimal resource utilization | b : Feasibl...       c  \n",
       "2  a : Constant trade-off ratio | b : Diminishing...       b  \n",
       "3  a : Decreased efficiency | b : Technological a...       b  \n",
       "4  a : Opportunity cost of production choices | b...       a  "
      ]
     },
     "execution_count": 54,
     "metadata": {},
     "output_type": "execute_result"
    }
   ],
   "source": [
    "quiz"
   ]
  },
  {
   "cell_type": "code",
   "execution_count": null,
   "metadata": {},
   "outputs": [],
   "source": []
  }
 ],
 "metadata": {
  "kernelspec": {
   "display_name": "Python 3",
   "language": "python",
   "name": "python3"
  },
  "language_info": {
   "codemirror_mode": {
    "name": "ipython",
    "version": 3
   },
   "file_extension": ".py",
   "mimetype": "text/x-python",
   "name": "python",
   "nbconvert_exporter": "python",
   "pygments_lexer": "ipython3",
   "version": "3.10.13"
  }
 },
 "nbformat": 4,
 "nbformat_minor": 2
}
